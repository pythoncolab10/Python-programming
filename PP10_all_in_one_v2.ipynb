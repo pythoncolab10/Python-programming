{
  "nbformat": 4,
  "nbformat_minor": 0,
  "metadata": {
    "colab": {
      "provenance": [],
      "collapsed_sections": [
        "xWGSyYypNFEI",
        "B_hLYYq4N0qU",
        "7Rbb3flsNLpQ",
        "h3NgcZnPsEEt",
        "e5KtRqqNOqnX",
        "pmHQ8ySjsKqd",
        "efxcrkeVOai-",
        "YzGf36XYYt1h",
        "yjiWtanqbR5D",
        "eJhHoAeza8Ow",
        "rwVmLcgbx5Sk",
        "IAo8MMZy6-GX",
        "DtStxvWFyQmw",
        "NTnRf6W5IF4i",
        "fxoRKqiprnMR",
        "D785PL0O26Go",
        "XO9pZPN1Cpq9",
        "kRuFVbqRwCMT",
        "x4lx2J750b03",
        "b8UDDKgi82Ay",
        "YnYBjQq5Qace",
        "SoQdimUoTJNu",
        "Tv2NQX8SYUg1",
        "1-nFXwPRQntO"
      ],
      "toc_visible": true,
      "include_colab_link": true
    },
    "kernelspec": {
      "name": "python3",
      "display_name": "Python 3"
    },
    "language_info": {
      "name": "python"
    }
  },
  "cells": [
    {
      "cell_type": "markdown",
      "metadata": {
        "id": "view-in-github",
        "colab_type": "text"
      },
      "source": [
        "<a href=\"https://colab.research.google.com/github/pythoncolab10/Python-programming/blob/main/PP10_all_in_one_v2.ipynb\" target=\"_parent\"><img src=\"https://colab.research.google.com/assets/colab-badge.svg\" alt=\"Open In Colab\"/></a>"
      ]
    },
    {
      "cell_type": "markdown",
      "source": [
        "### https://tinyurl.com/PP10-all-in-one\n",
        "Problem Solving with python: https://www.hackerrank.com/domains/python?filters%5Bsubdomains%5D%5B%5D=py-introduction&filters%5Bsubdomains%5D%5B%5D=py-basic-data-types&filters%5Bsubdomains%5D%5B%5D=py-strings&filters%5Bsubdomains%5D%5B%5D=py-sets&filters%5Bsubdomains%5D%5B%5D=py-math&filters%5Bdifficulty%5D%5B%5D=easy"
      ],
      "metadata": {
        "id": "wUSHuAJjXspv"
      }
    },
    {
      "cell_type": "markdown",
      "source": [
        "# Class_01"
      ],
      "metadata": {
        "id": "xWGSyYypNFEI"
      }
    },
    {
      "cell_type": "markdown",
      "source": [
        "**Programming Language** : A programming language is a system of notation for writing computer programs. Programming languages are described in terms of their syntax and semantics.\n",
        "\n",
        "\n",
        "**Python**: Python is a **high-level**, **interpreted** programming language known for its simplicity and readability, making it a popular choice for both beginners and experienced developers. Python is widely used in web development, data analysis, artificial intelligence, scientific computing, automation, and more. Its versatility and ease of use make it a go-to language for a variety of programming tasks.\n",
        "\n",
        "**Compiler vs Interpreter:**\n",
        "**A compiler** translates the entire source code of a program into machine code before execution, producing a standalone executable file. This process typically results in faster execution since the translation has already been completed. Compilers catch many errors during the compilation stage, which reduces the number of runtime errors. The development cycle with a compiler involves writing code, compiling it, and then running the executable, which can be time-consuming for large programs but results in efficient execution. Examples of compiled languages include **C, C++, Rust,** and **Go**. Compilers are favored for performance-critical applications due to their ability to optimize code during the compilation process.\n",
        "\n",
        "**An interpreter**, on the other hand, translates the source code into machine code line by line at runtime, directly executing the code without producing an executable file. This method can slow down execution because translation happens simultaneously with execution. However, interpreters offer immediate feedback, which is beneficial for iterative and experimental development, and make debugging easier for beginners since errors are caught at runtime. Interpreters are often used for scripting and prototyping due to their quick development cycle. Examples of interpreted languages include Python, JavaScript, Ruby, and PHP. Interpreted programs can be more portable as they rely on an interpreter available on the target system, unlike compiled programs which need recompilation for different platforms.\n",
        "\n",
        "\n",
        "\n",
        "**IDE:** An Integrated Development Environment (IDE) is a comprehensive software application that provides a suite of tools and features designed to facilitate software development. IDEs integrate various developer tools into a single graphical user interface (GUI), streamlining the development process and improving productivity. Some popular IDE for python development are: **PyCharm, VS code, Google Colab, Jupyter Notebook** etc.\n",
        "\n",
        "\n",
        "***For the reference, to learn Python, you can follow the following resouce:*** [think-python.pdf](https://drive.google.com/file/d/199F3BcJJxN4LaP03c9azwztWWXZZFynl/view?usp=sharing), [git repo](https://github.com/Asabeneh/30-Days-Of-Python/tree/master)"
      ],
      "metadata": {
        "id": "KEqnEa4HsW_N"
      }
    },
    {
      "cell_type": "markdown",
      "source": [
        "## Why python is required as a programming language on first hand?"
      ],
      "metadata": {
        "id": "B_hLYYq4N0qU"
      }
    },
    {
      "cell_type": "code",
      "execution_count": null,
      "metadata": {
        "id": "CxXK97s8JS5j"
      },
      "outputs": [],
      "source": [
        "234444544*45454545454"
      ]
    },
    {
      "cell_type": "markdown",
      "metadata": {
        "id": "03--OtlrMFyn"
      },
      "source": [
        "## Printing my first python code"
      ]
    },
    {
      "cell_type": "code",
      "execution_count": null,
      "metadata": {
        "id": "GYnonxEsJyQm"
      },
      "outputs": [],
      "source": [
        "print(\"Hello World!!!!!!!!!!!!\")"
      ]
    },
    {
      "cell_type": "markdown",
      "metadata": {
        "id": "Gy81GC6TMR0s"
      },
      "source": [
        "## Introduction to variable"
      ]
    },
    {
      "cell_type": "markdown",
      "source": [
        "**Variables**\n",
        "One of the most powerful features of a programming language is the ability to manipulate variables.\n",
        "A variable is a name that refers to a value.\n",
        "An assignment statement creates new variables and gives them values"
      ],
      "metadata": {
        "id": "VYI70ljTsfI8"
      }
    },
    {
      "cell_type": "code",
      "execution_count": null,
      "metadata": {
        "id": "QZjcgjXgKPfF"
      },
      "outputs": [],
      "source": [
        "student_of_PP_10 = 'Abrar'\n",
        "print(\"Hello\", student_of_PP_10)"
      ]
    },
    {
      "cell_type": "code",
      "execution_count": null,
      "metadata": {
        "id": "lnhYZdU5LLIr"
      },
      "outputs": [],
      "source": [
        "student_of_PP_10 = 'Fahim'\n",
        "print(\"Hello\", student_of_PP_10)"
      ]
    },
    {
      "cell_type": "code",
      "execution_count": null,
      "metadata": {
        "id": "dE8IBRUgOwWL"
      },
      "outputs": [],
      "source": [
        "student_info = 'i am'\n",
        "student_name = 'fahim'\n",
        "print(student_info.capitalize(), student_name.capitalize())"
      ]
    },
    {
      "cell_type": "markdown",
      "metadata": {
        "id": "WuJuRPesTXl4"
      },
      "source": [
        "## String manipulation with built in functions"
      ]
    },
    {
      "cell_type": "code",
      "execution_count": null,
      "metadata": {
        "id": "qSXFFAvuPtSk"
      },
      "outputs": [],
      "source": [
        "student_info = '      i am Fahim      '\n",
        "print(student_info.strip())"
      ]
    },
    {
      "cell_type": "code",
      "execution_count": null,
      "metadata": {
        "id": "exc-ncK6Qhkd"
      },
      "outputs": [],
      "source": [
        "student_info = '      i am Fahim      '\n",
        "print(student_info)\n",
        "student_info = student_info.strip()\n",
        "print(student_info)\n",
        "student_info = student_info.capitalize()\n",
        "print(student_info)"
      ]
    },
    {
      "cell_type": "code",
      "execution_count": null,
      "metadata": {
        "id": "ph-fpBQTSV5X"
      },
      "outputs": [],
      "source": [
        "student_info = '      i am Fahim      '\n",
        "print(student_info)\n",
        "student_info = student_info.strip().capitalize()\n",
        "print(student_info)"
      ]
    },
    {
      "cell_type": "markdown",
      "source": [
        "# Class_02"
      ],
      "metadata": {
        "id": "7Rbb3flsNLpQ"
      }
    },
    {
      "cell_type": "markdown",
      "source": [
        "\n",
        "*   Data_types[int, float, string]\n",
        "*   Variables naming\n",
        "*   Keywords\n",
        "*   Commenting\n",
        "*   Inputs\n",
        "*   Type Casting\n",
        "\n",
        "\n"
      ],
      "metadata": {
        "id": "5FgD92_L17dv"
      }
    },
    {
      "cell_type": "markdown",
      "source": [
        "## Data Types[int, float, string]"
      ],
      "metadata": {
        "id": "Oome0nsnckE9"
      }
    },
    {
      "cell_type": "markdown",
      "source": [
        "**Variable Types in python**\n",
        "\n",
        "- **Text Type**: `str`\n",
        "- **Numeric Types**: `int`, `float`, `complex`\n",
        "- **Sequence Types**: `list`, `tuple`, `range`\n",
        "- **Mapping Type**: `dict`\n",
        "- **Set Types**: `set`, `frozenset`\n",
        "- **Boolean Type**: `bool`\n",
        "- **Binary Types**: `bytes`, `bytearray`, `memoryview`\n",
        "- **None Type**: `NoneType`"
      ],
      "metadata": {
        "id": "Zteoj6JSsyuk"
      }
    },
    {
      "cell_type": "code",
      "execution_count": null,
      "metadata": {
        "id": "mgLELDag1sGX"
      },
      "outputs": [],
      "source": [
        "class_no = 4\n",
        "val_of_pi = 3.1416\n",
        "intro = 'This is class of PP_10'\n",
        "print(type(class_no))\n",
        "print(type(val_of_pi))\n",
        "print(type(intro))"
      ]
    },
    {
      "cell_type": "markdown",
      "source": [
        "## Commenting"
      ],
      "metadata": {
        "id": "VEg19p2Mcumi"
      }
    },
    {
      "cell_type": "code",
      "source": [
        "# In the next we block, we are defining some variable\n",
        "# This is another comment"
      ],
      "metadata": {
        "id": "xT7hYZ5-c6G0"
      },
      "execution_count": null,
      "outputs": []
    },
    {
      "cell_type": "code",
      "source": [
        "'''\n",
        "This\n",
        "is\n",
        "a\n",
        "multi\n",
        "line\n",
        "comment\n",
        "'''\n",
        "\n",
        "comment = \"\"\"# this is a comment\"\"\"\n",
        "\n",
        "print(comment)"
      ],
      "metadata": {
        "id": "q3g_LBawcpwF"
      },
      "execution_count": null,
      "outputs": []
    },
    {
      "cell_type": "markdown",
      "source": [
        "## Variable naming"
      ],
      "metadata": {
        "id": "_2lPCoVBh4bk"
      }
    },
    {
      "cell_type": "markdown",
      "source": [
        "### https://www.w3schools.com/python/python_variables_names.asp"
      ],
      "metadata": {
        "id": "pLpsLcdqgsQg"
      }
    },
    {
      "cell_type": "markdown",
      "source": [
        "Programmers generally choose names for their variables that are meaningful—they document what the variable is used for.  \n",
        "\n",
        "Variable names can be arbitrarily long. They can contain both letters and numbers, but they have to begin with a letter.  \n",
        "\n",
        "It is **legal** to use **uppercase letters**, but it is a **good idea to begin variable names with a lowercase letter** (you’ll see why later).\n",
        "**The underscore character (_) can appear in a name. It is often used in names with multiple words**.\n",
        "\n",
        "If you give a variable an illegal name, you get a syntax error.\n",
        "\n",
        "**Can't use python keywords as variable, there are 31 keywords in python:**\n",
        "- `and`\n",
        "- `del`\n",
        "- `from`\n",
        "- `as`\n",
        "- `elif`\n",
        "- `global`\n",
        "- `assert`\n",
        "- `else`\n",
        "- `if`\n",
        "- `break`\n",
        "- `except`\n",
        "- `import`\n",
        "- `class`\n",
        "- `exec`\n",
        "- `in`\n",
        "- `continue`\n",
        "- `finally`\n",
        "- `is`\n",
        "- `def`\n",
        "- `for`\n",
        "- `lambda`\n",
        "- `not`\n",
        "- `while`\n",
        "- `or`\n",
        "- `with`\n",
        "- `pass`\n",
        "- `yield`\n",
        "- `print`\n",
        "- `raise`\n",
        "- `return`\n",
        "- `try`"
      ],
      "metadata": {
        "id": "fmI1sdowsqDF"
      }
    },
    {
      "cell_type": "code",
      "source": [
        "# Valid naming\n",
        "PP10 = '10'\n",
        "_firstName = 'Python'\n",
        "first_name = 'Java'\n",
        "top10students = 'Raihan Emon Kabir ....'\n",
        "\n",
        "# Invaid naming\n",
        "10PP = ''    #Reason: Have a numeric value as first char\n",
        "@firstName = 'a' #Reason: Special Char at first letter\n",
        "first name = 'Java'  #Reason: No white-space in a variable name\n",
        "first!@$name = 'Java' #Reason: Only valid special char(_)\n",
        "\n",
        "# class_n0 = 2\n",
        "# e.g. of invalid vaiable naming\n",
        "# class_n! = 2\n",
        "# 1Class = 3\n",
        "# break = 5"
      ],
      "metadata": {
        "id": "j4IhV68Oe_oU"
      },
      "execution_count": null,
      "outputs": []
    },
    {
      "cell_type": "markdown",
      "source": [
        "## Inputs(Taking inputs from user)"
      ],
      "metadata": {
        "id": "h3NgcZnPsEEt"
      }
    },
    {
      "cell_type": "code",
      "source": [
        "name = input(\"What is your name? :\")\n",
        "print('Welcome ', name)\n",
        "\n",
        "# age = input(\"What is your age? :\")\n",
        "# print('Welcome ', name, \". Hey! you are\", age, \"years old. Nice to meet you.\")"
      ],
      "metadata": {
        "id": "U_Se_23ciTI3"
      },
      "execution_count": null,
      "outputs": []
    },
    {
      "cell_type": "markdown",
      "source": [
        "## String manipulation-02(Concatination)"
      ],
      "metadata": {
        "id": "e5KtRqqNOqnX"
      }
    },
    {
      "cell_type": "code",
      "source": [
        "# String concatination\n",
        "\"This is a \" + \"line with plus operator\"\n",
        "# \"23.55\" + \"65.45\"\n",
        "\"23\" + \"67\"\n",
        "int(\"23\") + int(\"67\")"
      ],
      "metadata": {
        "id": "9T1WBsU_ltWl"
      },
      "execution_count": null,
      "outputs": []
    },
    {
      "cell_type": "markdown",
      "source": [
        "## Our first program to sum two numbers taking user inputs"
      ],
      "metadata": {
        "id": "pmHQ8ySjsKqd"
      }
    },
    {
      "cell_type": "code",
      "source": [
        "first_num = input(\"Input your first number: \")\n",
        "second_num = input(\"Input your second number: \")"
      ],
      "metadata": {
        "id": "Pn6Z3pqPjCXs"
      },
      "execution_count": null,
      "outputs": []
    },
    {
      "cell_type": "code",
      "source": [
        "print(\"Data type of first_num variable:\", type(first_num))"
      ],
      "metadata": {
        "id": "OYtH0neHtdlk"
      },
      "execution_count": null,
      "outputs": []
    },
    {
      "cell_type": "code",
      "source": [
        "sum = first_num + second_num\n",
        "print(sum)"
      ],
      "metadata": {
        "id": "qnHTGVU6tP5V"
      },
      "execution_count": null,
      "outputs": []
    },
    {
      "cell_type": "code",
      "source": [
        "print(\"Data type of first_num var:\", type(first_num))"
      ],
      "metadata": {
        "id": "G_5WMjMxtAnY"
      },
      "execution_count": null,
      "outputs": []
    },
    {
      "cell_type": "markdown",
      "source": [
        "### Type-casting"
      ],
      "metadata": {
        "id": "efxcrkeVOai-"
      }
    },
    {
      "cell_type": "code",
      "source": [
        "first_num = int(first_num)\n",
        "second_num = float(second_num)\n",
        "print(\"Data type of both vars after type casting:\", type(first_num), type(second_num))"
      ],
      "metadata": {
        "id": "9swIRF3xtNRq"
      },
      "execution_count": null,
      "outputs": []
    },
    {
      "cell_type": "code",
      "source": [
        "first_num = float(first_num)\n",
        "second_num = float(second_num)\n",
        "print(\"Data type of both vars after type casting:\", type(first_num), type(second_num))"
      ],
      "metadata": {
        "id": "iia6Rbljy0Pe"
      },
      "execution_count": null,
      "outputs": []
    },
    {
      "cell_type": "code",
      "source": [
        "sum = first_num + second_num\n",
        "print(\"The sum of two numbers: \", sum)"
      ],
      "metadata": {
        "id": "Vjmbj1ZjtI4y"
      },
      "execution_count": null,
      "outputs": []
    },
    {
      "cell_type": "markdown",
      "source": [
        "### Exercise-01:\n",
        "Write a python program to sum, substract, multiply & divide two numbers.\n",
        "Power function(2^3), Integer divison(4/3=1)\n",
        "The numbers will be given as input.\n",
        "\n",
        "### Quiz-01:\n",
        "(https://tinyurl.com/PP10Quiz1)"
      ],
      "metadata": {
        "id": "nPv-_zJFViXN"
      }
    },
    {
      "cell_type": "markdown",
      "source": [
        "# Class_03"
      ],
      "metadata": {
        "id": "YzGf36XYYt1h"
      }
    },
    {
      "cell_type": "markdown",
      "source": [
        "*   More data_types(Boolean, List, Tuple..)\n",
        "*   Expression, Evaluation & Statements, Execution\n",
        "*   Output formatting with sep, end parameter, format(), string modulo(%)\n",
        "*   String\n",
        "\n"
      ],
      "metadata": {
        "id": "5dTqs_nqYwf2"
      }
    },
    {
      "cell_type": "markdown",
      "source": [
        "## Variable Types in python"
      ],
      "metadata": {
        "id": "yjiWtanqbR5D"
      }
    },
    {
      "cell_type": "code",
      "source": [
        "a = 10 # integer\n",
        "b = 10.12 # float\n",
        "c = \"I am rakib\" # string\n",
        "d = True\n",
        "e = 1+2j\n",
        "\n",
        "print(type(d))"
      ],
      "metadata": {
        "id": "n91x4Ucq5RUz"
      },
      "execution_count": null,
      "outputs": []
    },
    {
      "cell_type": "markdown",
      "source": [
        "## Expression vs Statement"
      ],
      "metadata": {
        "id": "eJhHoAeza8Ow"
      }
    },
    {
      "cell_type": "markdown",
      "source": [
        "### Expressions\n",
        "\n",
        "**Definition**: An expression is a combination of values, variables, operators, and function calls that produces a result.\n",
        "\n",
        "**Evaluation**: Expressions are evaluated to yield a value. For example, 2 + 3 is an expression that evaluates to 5.\n",
        "Side Effects: Expressions may have side effects, but their primary purpose is to compute a value.\n",
        "\n",
        "**Examples**: Arithmetic expressions (5 + 3, x * y), function calls (len(my_list), my_function()), and conditional expressions (True if x > 0 else False) are all examples of expressions.\n",
        "\n",
        "\n",
        "\n",
        "\n",
        "###Statements\n",
        "\n",
        "\n",
        "**Definition**: A statement is a unit of code that performs an action, such as assignment, control flow, or function definition.\n",
        "\n",
        "**Execution**: Statements are executed by the Python interpreter to perform tasks like variable assignment, loop iteration, or function invocation.\n",
        "No Result: Unlike expressions, statements do not produce a value.\n",
        "\n",
        "**Examples**: Assignment statements (x = 5, my_list.append(10)), control flow statements (if, while, for), and function definition statements (def my_function():) are all examples of statements.\n",
        "\n",
        "\n",
        "###Key Differences\n",
        "**Evaluation vs Execution**: Expressions are evaluated to produce a value, while statements are executed to perform actions.\n",
        "\n",
        "**Value vs Action**: Expressions produce a value, while statements perform actions such as assignment, control flow, or function invocation.\n",
        "\n",
        "**Combination**: Statements often contain expressions, but not all expressions are statements. For example, an arithmetic expression (5 + 3) is not a statement, but an assignment statement (x = 5) contains an expression (5) on the right-hand side."
      ],
      "metadata": {
        "id": "rwVmLcgbx5Sk"
      }
    },
    {
      "cell_type": "markdown",
      "source": [
        "**Run Python program on a local IDE**\n",
        "\n",
        "\n",
        "\n",
        "1.   First download [PyCharm Community Edition](https://www.jetbrains.com/pycharm/download/?section=mac)\n",
        "2.   Now follow the following tutorial to run your first Python Program on Pycharm: [Create Your First Project on Python](https://www.jetbrains.com/help/pycharm/creating-and-running-your-first-python-project.html#edit-file)\n",
        "\n"
      ],
      "metadata": {
        "id": "pnr3GEbCbpeh"
      }
    },
    {
      "cell_type": "code",
      "source": [
        "a = 5 #Statement => execute\n",
        "2*a-4 #Expression => Output => evalation"
      ],
      "metadata": {
        "id": "4c7xv8UC6M7r"
      },
      "execution_count": null,
      "outputs": []
    },
    {
      "cell_type": "markdown",
      "source": [
        "## Output formatting"
      ],
      "metadata": {
        "id": "IAo8MMZy6-GX"
      }
    },
    {
      "cell_type": "code",
      "source": [
        "2 * 3"
      ],
      "metadata": {
        "id": "wnagJE2I7UB1"
      },
      "execution_count": null,
      "outputs": []
    },
    {
      "cell_type": "code",
      "source": [
        "region = \"Sylhet\"\n",
        "country = \"Bangladesh\"\n",
        "print(\"I am from Sylhet, Bangladesh\")\n",
        "print(\"I am from\", region, \",\", country)\n",
        "print(f\"I am from {region}, {country}\")\n",
        "print(\"I am from {}, {}\".format(region, country))\n",
        "print(\"I am from {}, {}\".format(region, country))\n",
        "print(\"I am from {1}, {0}\".format(region, country))\n",
        "print(\"I am from {place}, {0}, {1}\".format(region, country, place = \"Akhalia\"))"
      ],
      "metadata": {
        "id": "XYquQcJe62xR"
      },
      "execution_count": null,
      "outputs": []
    },
    {
      "cell_type": "code",
      "source": [
        "net_balance = 123456.34567893456\n",
        "balance = 12.345\n",
        "print(\"Your Account balance is: {:.2f}\".format(net_balance))\n",
        "print(\"Your Account balance is: {0:.2f}\".format(net_balance, balance))\n",
        "print(\"Your Account balance is: {1:.2f}\".format(net_balance, balance))\n",
        "print(\"Your Account balance is: {1:10.4f}\".format(net_balance, balance))"
      ],
      "metadata": {
        "id": "PXEFrGxR-lLT"
      },
      "execution_count": null,
      "outputs": []
    },
    {
      "cell_type": "code",
      "source": [
        "print(\"This is line\",\"no-1\", end=\". \")\n",
        "print(\"This is line no-2\", end=\"\\n\")\n",
        "print(\"Emon\", \"Gazi\", \"Harun\", sep=\"----------\")"
      ],
      "metadata": {
        "id": "084gLVXIArnq"
      },
      "execution_count": null,
      "outputs": []
    },
    {
      "cell_type": "code",
      "source": [
        "# Escape character\n",
        "new_line = \"I am Rakib.\\nFrom \\\"Banngladesh\\\". Liberated in 1971.\"\n",
        "# print(new_line, type(new_line))\n",
        "\n",
        "multiline = '''I\n",
        "am\n",
        "a\n",
        "miltiline\n",
        "str\n",
        "'''\n",
        "\n",
        "str_concatination = new_line + multiline\n",
        "\n",
        "print(str_concatination)"
      ],
      "metadata": {
        "id": "TOuYDPnOK3uB"
      },
      "execution_count": null,
      "outputs": []
    },
    {
      "cell_type": "code",
      "source": [
        "# Searching/Find\n",
        "print(message.find('to'))\n",
        "\n",
        "# length\n",
        "print(len(message))\n",
        "\n",
        "first_index_of_to = message.find('PYTHON')\n",
        "length_of_to = len('PYTHON')\n",
        "\n",
        "print(message[first_index_of_to:first_index_of_to+length_of_to])"
      ],
      "metadata": {
        "id": "cmYojMCtQYgM"
      },
      "execution_count": null,
      "outputs": []
    },
    {
      "cell_type": "code",
      "source": [
        "message = \"Introduction to PYTHON programming language\"\n",
        "\n",
        "# single char access\n",
        "# print(message[2])\n",
        "\n",
        "# multiple char access\n",
        "# print(message[1:4])\n",
        "\n",
        "# to_substring = message[13:15]\n",
        "# print(message[0])\n",
        "\n",
        "# print(message[:6])\n",
        "# print(message[6:])\n",
        "\n",
        "# print(message[-1])\n",
        "print(message[-2 : ])\n",
        "print(message[ : -2])\n"
      ],
      "metadata": {
        "id": "V6oph7TrLrgw"
      },
      "execution_count": null,
      "outputs": []
    },
    {
      "cell_type": "code",
      "source": [
        "date='2024-06-29'\n",
        "year = date[0:4]\n",
        "month = date[5:7]\n",
        "day = date[8:10]\n",
        "print(day, month, year)\n",
        "\n",
        "# Replace the day with the next day\n",
        "date = date.replace('29', '30')\n",
        "print(date)\n",
        "\n",
        "message = \"Introduction to PYTHON programming language\" # with 'Arthopoda'\n"
      ],
      "metadata": {
        "id": "H5nb8St0RSex"
      },
      "execution_count": null,
      "outputs": []
    },
    {
      "cell_type": "markdown",
      "source": [
        "# Class_04_05"
      ],
      "metadata": {
        "id": "DtStxvWFyQmw"
      }
    },
    {
      "cell_type": "markdown",
      "source": [
        "### List\n",
        "Lists are used to store multiple items in a single variable.\n",
        "\n",
        "For reference check this link:\n",
        "[https://www.w3schools.com/python/python_lists.asp](https://www.w3schools.com/python/python_lists.asp)"
      ],
      "metadata": {
        "id": "tAf1kptiorpS"
      }
    },
    {
      "cell_type": "code",
      "source": [
        "groceries = ['Rice', 'Oil', 'Egg']\n",
        "print(groceries )\n",
        "print(type(groceries), len(groceries))"
      ],
      "metadata": {
        "id": "IW6FDXOEyO2f"
      },
      "execution_count": null,
      "outputs": []
    },
    {
      "cell_type": "code",
      "source": [
        "groceries.append('Salt')"
      ],
      "metadata": {
        "id": "qOslt-iiDRjO"
      },
      "execution_count": null,
      "outputs": []
    },
    {
      "cell_type": "code",
      "source": [
        "print(groceries)"
      ],
      "metadata": {
        "id": "ltnuykXLENDS"
      },
      "execution_count": null,
      "outputs": []
    },
    {
      "cell_type": "code",
      "source": [
        "groceries.remove('Oil')\n",
        "print(groceries)"
      ],
      "metadata": {
        "id": "z56pEYjQERIV"
      },
      "execution_count": null,
      "outputs": []
    },
    {
      "cell_type": "code",
      "source": [
        "print(groceries[1])"
      ],
      "metadata": {
        "id": "dk_2RvHzFZj_"
      },
      "execution_count": null,
      "outputs": []
    },
    {
      "cell_type": "code",
      "source": [
        "groceries[1] = 'Rui-Fish'\n",
        "print(groceries)"
      ],
      "metadata": {
        "id": "DrTbSdvpF0hT"
      },
      "execution_count": null,
      "outputs": []
    },
    {
      "cell_type": "code",
      "source": [
        "# Lentil, Onion, Gerlic, Ginger, Potato, Tomato\n",
        "groceries = ['Rice', 'Rui-Fish', 'Salt']\n",
        "updated_items_of_groceries = ['Lentil', 'Onion', 'Gerlic', 'Ginger', 'Potato', 'Tomato']\n",
        "groceries.append(updated_items_of_groceries)\n",
        "print(groceries)"
      ],
      "metadata": {
        "id": "3RzZ-bwwGelD"
      },
      "execution_count": null,
      "outputs": []
    },
    {
      "cell_type": "code",
      "source": [
        "groceries = ['Rice', 'Rui-Fish', 'Salt']"
      ],
      "metadata": {
        "id": "1fQv4RX-Hk2o"
      },
      "execution_count": null,
      "outputs": []
    },
    {
      "cell_type": "code",
      "source": [
        "# Lentil, Onion, Gerlic, Ginger, Potato, Tomato\n",
        "# groceries.append('Lentil')\n",
        "# groceries.append('Onion')\n",
        "# groceries.append('Gerlic')\n",
        "# groceries.append('Ginger')\n",
        "groceries.extend(updated_items_of_groceries)"
      ],
      "metadata": {
        "id": "GhQYYf7hHoB4"
      },
      "execution_count": null,
      "outputs": []
    },
    {
      "cell_type": "code",
      "source": [
        "print(groceries)"
      ],
      "metadata": {
        "id": "u2BDjt5PHVtJ"
      },
      "execution_count": null,
      "outputs": []
    },
    {
      "cell_type": "code",
      "source": [
        "print(len(groceries))"
      ],
      "metadata": {
        "id": "vh8aYweSJWiu"
      },
      "execution_count": null,
      "outputs": []
    },
    {
      "cell_type": "code",
      "source": [
        "print(groceries[4])"
      ],
      "metadata": {
        "id": "CLsS5-YuJWXl"
      },
      "execution_count": null,
      "outputs": []
    },
    {
      "cell_type": "code",
      "source": [
        "print(groceries)"
      ],
      "metadata": {
        "id": "68eFC2bUJ6P-"
      },
      "execution_count": null,
      "outputs": []
    },
    {
      "cell_type": "code",
      "source": [
        "print(groceries[-1])"
      ],
      "metadata": {
        "id": "p0TSuXIAJV-D"
      },
      "execution_count": null,
      "outputs": []
    },
    {
      "cell_type": "code",
      "source": [
        "print(groceries[-3:-1])"
      ],
      "metadata": {
        "id": "G4L_SikOMtxF"
      },
      "execution_count": null,
      "outputs": []
    },
    {
      "cell_type": "code",
      "source": [
        "print(groceries[-3:])"
      ],
      "metadata": {
        "id": "pX6aAIDQNI6g"
      },
      "execution_count": null,
      "outputs": []
    },
    {
      "cell_type": "code",
      "source": [
        "print(groceries[0:2])"
      ],
      "metadata": {
        "id": "2zp4YtQCJWMa"
      },
      "execution_count": null,
      "outputs": []
    },
    {
      "cell_type": "code",
      "source": [
        "my_list = ['Rice', 10, 'Egg', 12.5, [1, 'Onion']]\n",
        "print(my_list)"
      ],
      "metadata": {
        "id": "IhVIbm-9JBtp"
      },
      "execution_count": null,
      "outputs": []
    },
    {
      "cell_type": "code",
      "source": [
        "print(groceries)"
      ],
      "metadata": {
        "id": "30ESVqspLF0H"
      },
      "execution_count": null,
      "outputs": []
    },
    {
      "cell_type": "code",
      "source": [
        "groceries.clear()\n",
        "print(groceries)"
      ],
      "metadata": {
        "id": "DU-uRSXgLJGn"
      },
      "execution_count": null,
      "outputs": []
    },
    {
      "cell_type": "markdown",
      "source": [
        "### Conditional statement"
      ],
      "metadata": {
        "id": "u1Fh37KsObtt"
      }
    },
    {
      "cell_type": "markdown",
      "source": [
        "`if` statement is how you perform this sort of decision-making. It allows for conditional execution of a statement or group of statements based on the value of an expression.\n",
        "[https://www.w3schools.com/python/python_conditions.asp](https://www.w3schools.com/python/python_conditions.asp)"
      ],
      "metadata": {
        "id": "kTc_opPMpN3p"
      }
    },
    {
      "cell_type": "markdown",
      "source": [
        "**Indentation**\n",
        "\n",
        "Python relies on indentation (whitespace at the beginning of a line) to define scope in the code. Other programming languages often use curly-brackets for this purpose.\n",
        "\n",
        "Indentation is used to define compound statements or blocks. In a Python program, contiguous statements that are indented to the same level are considered to be part of the same block.\n",
        "\n",
        "![image.png](data:image/png;base64,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)"
      ],
      "metadata": {
        "id": "oCWtuyaUpXR7"
      }
    },
    {
      "cell_type": "code",
      "source": [
        "is_married = False\n",
        "print(type(is_married))"
      ],
      "metadata": {
        "id": "3oYsznfsOd-8"
      },
      "execution_count": null,
      "outputs": []
    },
    {
      "cell_type": "code",
      "source": [
        "if is_married:\n",
        "  print('He is married!!!!')\n",
        "  print('I am inside if condional statement!!!!')\n",
        "# else:\n",
        "#   print('He is unmarried')\n",
        "#   print('I am inside else condional statement!!!!')\n",
        "print('I am outside if-else block')\n"
      ],
      "metadata": {
        "id": "RkC_gBEHO8Yp"
      },
      "execution_count": null,
      "outputs": []
    },
    {
      "cell_type": "code",
      "source": [
        "if 5 <= 0:\n",
        "  print(\"5 is less than zero\")"
      ],
      "metadata": {
        "id": "-NO9q0SgUAT4"
      },
      "execution_count": null,
      "outputs": []
    },
    {
      "cell_type": "code",
      "source": [
        "my_farm = ['cow', 'goat']\n",
        "offering_animal = input(\"Please enter your animal name:\")\n",
        "print(offering_animal)\n",
        "\n",
        "if offering_animal == my_farm[0]:\n",
        "  print(\"Okay, I have a offer for you\")\n",
        "elif offering_animal == my_farm[1]:\n",
        "  print(\"Okay, I have a offer for you\")\n",
        "else:\n",
        "  print(\"Okay, but I don't want to buy what you are selling!\")\n"
      ],
      "metadata": {
        "id": "CEwp-ZTRPCb3"
      },
      "execution_count": null,
      "outputs": []
    },
    {
      "cell_type": "markdown",
      "source": [
        "# Class_06"
      ],
      "metadata": {
        "id": "NTnRf6W5IF4i"
      }
    },
    {
      "cell_type": "markdown",
      "source": [
        "- Different printing format(with format, f' string literal)\n",
        "- printing format continued(end, sep params)\n",
        "- Access string with index and range\n",
        "- Tuples [Need to update]\n"
      ],
      "metadata": {
        "id": "E6US1LxOILMp"
      }
    },
    {
      "cell_type": "code",
      "source": [
        "print(\"I lova BD.\")"
      ],
      "metadata": {
        "id": "6kSut7aVIKqF"
      },
      "execution_count": null,
      "outputs": []
    },
    {
      "cell_type": "code",
      "source": [
        "country_name = \"BD\"\n",
        "print(\"My country is:\", country_name)"
      ],
      "metadata": {
        "id": "iP0Dc9bAekre"
      },
      "execution_count": null,
      "outputs": []
    },
    {
      "cell_type": "code",
      "source": [
        "country_name = \"BD\"\n",
        "liberated_in = \"1971\"\n",
        "# print(f\"My country is:\", country_name, \". And liberated in:\", liberated_in)\n",
        "print(\"My country is: {country_name}. And liberated in: {liberated_in} {xyz}\")\n",
        "print(f\"My country is: {country_name}. And liberated in: {liberated_in}\")"
      ],
      "metadata": {
        "id": "t91VbPQeeucU"
      },
      "execution_count": null,
      "outputs": []
    },
    {
      "cell_type": "markdown",
      "source": [
        "escape-character: https://www.w3schools.com/python/gloss_python_escape_characters.asp"
      ],
      "metadata": {
        "id": "avZ6GqHDgWva"
      }
    },
    {
      "cell_type": "code",
      "source": [
        "print(\"I love my country.1\", end=\"\")\n",
        "print(\"I love my country.2\", end=\"\\n\")\n",
        "print(\"I love my country.3\", end=\"\\t\")\n",
        "print(\"I love my home.4\")"
      ],
      "metadata": {
        "id": "4gziudh5gJPS"
      },
      "execution_count": null,
      "outputs": []
    },
    {
      "cell_type": "code",
      "source": [
        "country_name = \"BD\"\n",
        "liberated_in = \"1971\"\n",
        "# print(\"My country is:\", country_name, \"And liberated in:\", liberated_in)\n",
        "print(\"My country is:\", country_name, sep=\"--\\t---\", end=\" \")\n",
        "print(\"My country is:\", country_name, sep=\"::\")"
      ],
      "metadata": {
        "id": "PbXTagUOhs2h"
      },
      "execution_count": null,
      "outputs": []
    },
    {
      "cell_type": "markdown",
      "source": [
        "### string access"
      ],
      "metadata": {
        "id": "uwEbNzq0jfNk"
      }
    },
    {
      "cell_type": "code",
      "source": [
        "my_info = \"My name is Rakib. I'm a SUST graduate\"\n",
        "print(my_info[0])\n",
        "print(my_info[0:2])\n",
        "print(my_info[-1])\n",
        "print(my_info[-8:])"
      ],
      "metadata": {
        "id": "-3HoNCUSjTdB"
      },
      "execution_count": null,
      "outputs": []
    },
    {
      "cell_type": "markdown",
      "source": [
        "# Class_07"
      ],
      "metadata": {
        "id": "fxoRKqiprnMR"
      }
    },
    {
      "cell_type": "markdown",
      "source": [
        "- for loop"
      ],
      "metadata": {
        "id": "HwXG2FXPrwKV"
      }
    },
    {
      "cell_type": "code",
      "source": [
        "my_list = [\"Rice\", \"Oil\", \"Coconut\", \"Fish\", \"Meat\"]\n",
        "# print(my_list[0])\n",
        "# print(my_list[1])\n",
        "# print(my_list[2])\n",
        "# print(my_list[3])\n",
        "# print(my_list[4])\n",
        "# print(my_list[5])\n",
        "\n",
        "# printing the list with for loop\n",
        "for item in my_list:\n",
        "  print(\"List item:\", item)"
      ],
      "metadata": {
        "id": "k71az9-4rpoV"
      },
      "execution_count": null,
      "outputs": []
    },
    {
      "cell_type": "code",
      "source": [],
      "metadata": {
        "id": "-hPyCqSR4LIl"
      },
      "execution_count": null,
      "outputs": []
    },
    {
      "cell_type": "code",
      "source": [
        "print(range(0,5,2))"
      ],
      "metadata": {
        "id": "rmQDiWoIOM58"
      },
      "execution_count": null,
      "outputs": []
    },
    {
      "cell_type": "code",
      "source": [
        "user_input = input(\"Input the last item:\")\n",
        "\n",
        "user_input = int(user_input)\n",
        "\n",
        "for i in range(1, user_input+1):\n",
        "  print(i)"
      ],
      "metadata": {
        "id": "S95MoXrdtrJV"
      },
      "execution_count": null,
      "outputs": []
    },
    {
      "cell_type": "code",
      "source": [
        "for i in range(1, 10, 2):\n",
        "  print(i)"
      ],
      "metadata": {
        "id": "HVS3VAHB4Mmn"
      },
      "execution_count": null,
      "outputs": []
    },
    {
      "cell_type": "markdown",
      "source": [
        "# Class_08"
      ],
      "metadata": {
        "id": "D785PL0O26Go"
      }
    },
    {
      "cell_type": "markdown",
      "source": [
        "- for, while (loop)\n",
        "- Dictonary\n",
        "- Set"
      ],
      "metadata": {
        "id": "YPcRHbCa3Hvm"
      }
    },
    {
      "cell_type": "code",
      "source": [
        "# Drawing a right-angle trianle with list\n",
        "list_of_star = [\"*\",\"*\",\"*\",\"*\",\"*\"]\n",
        "for star in list_of_star:\n",
        "  print(star)"
      ],
      "metadata": {
        "id": "fAxlnGhs28Qf"
      },
      "execution_count": null,
      "outputs": []
    },
    {
      "cell_type": "code",
      "source": [
        "# Drawing a right-angle trianle with list\n",
        "list_of_star = [\"apple\",\"banana\",\"orange\",\"mango\",\"pineapple\"]\n",
        "for i in range(1,5,2):\n",
        "  print(list_of_star[i])"
      ],
      "metadata": {
        "id": "LSakn29H9koK"
      },
      "execution_count": null,
      "outputs": []
    },
    {
      "cell_type": "code",
      "source": [
        "text = ['Python', 'is', 'a', 'fun', 'programming', 'language']\n",
        "\n",
        "# join elements of text with space\n",
        "print('#'.join(text))"
      ],
      "metadata": {
        "id": "cOutQHvAZ31A"
      },
      "execution_count": null,
      "outputs": []
    },
    {
      "cell_type": "code",
      "source": [
        "# Drawing a right-angle trianle with list\n",
        "list_of_star = [\"*\",\"*\",\"*\",\"*\",\"*\"]\n",
        "\n",
        "for i in range(0,5,1):\n",
        "  print(list_of_star[0:i+1])\n",
        "\n",
        "# print(list_of_star[0:1])\n",
        "# print(list_of_star[0:2])\n",
        "# print(list_of_star[0:3])\n",
        "# print(list_of_star[0:4])\n",
        "# print(list_of_star[0:5])\n"
      ],
      "metadata": {
        "id": "0TeZs94zXa20"
      },
      "execution_count": null,
      "outputs": []
    },
    {
      "cell_type": "code",
      "source": [
        "# Drawing a right-angle trianle with list\n",
        "list_of_star = [\"*\",\"*\",\"*\",\"*\",\"*\"]\n",
        "for i in range(0,5):\n",
        "  print(\"_\".join(list_of_star[0: i+1]))"
      ],
      "metadata": {
        "id": "r4AEsx2S-BCA"
      },
      "execution_count": null,
      "outputs": []
    },
    {
      "cell_type": "code",
      "source": [
        "# Drawing an even star with list\n",
        "list_of_star = [\"*\",\"*\",\"*\",\"*\",\"*\", \"*\"]\n",
        "for i in range(0,3):\n",
        "  print(\"\".join(list_of_star[0: i*2+2]))"
      ],
      "metadata": {
        "id": "tdAMMtP4H4Uu"
      },
      "execution_count": null,
      "outputs": []
    },
    {
      "cell_type": "code",
      "source": [
        "for i in range(4):\n",
        "  for j in range(4):\n",
        "    print(i,j, end=\"|\")\n",
        "  print(end=\"\\n\")"
      ],
      "metadata": {
        "id": "4HCf1mDwIt-6"
      },
      "execution_count": null,
      "outputs": []
    },
    {
      "cell_type": "markdown",
      "source": [
        "### Draw a diaonal line with nested for loops\n"
      ],
      "metadata": {
        "id": "IfGssezENNTY"
      }
    },
    {
      "cell_type": "markdown",
      "source": [
        "### String join function with list"
      ],
      "metadata": {
        "id": "XO9pZPN1Cpq9"
      }
    },
    {
      "cell_type": "code",
      "source": [
        "myTuple = (\"John\", \"Peter\", \"Vicky\")\n",
        "\n",
        "x = \"#\".join(myTuple)\n",
        "\n",
        "print(x)"
      ],
      "metadata": {
        "id": "PmFdyBze_Wko"
      },
      "execution_count": null,
      "outputs": []
    },
    {
      "cell_type": "code",
      "source": [
        "star_tri_angle = \" \"\n",
        "\n",
        "list_of_star = [\"*\",\"*\",\"*\",\"*\",\"*\"]\n",
        "\n",
        "star_tri_angle.join(list_of_star[0:3])"
      ],
      "metadata": {
        "id": "It8EiT1o-XWm"
      },
      "execution_count": null,
      "outputs": []
    },
    {
      "cell_type": "markdown",
      "source": [
        "## while loop"
      ],
      "metadata": {
        "id": "4PHSrRkAEhIM"
      }
    },
    {
      "cell_type": "code",
      "source": [
        "i = 0\n",
        "while i < 6:\n",
        "  print(i)\n",
        "  i = i+1\n",
        "print(f\"I'm outside loop with value of i: {i}\")"
      ],
      "metadata": {
        "id": "0mimu341NXio"
      },
      "execution_count": null,
      "outputs": []
    },
    {
      "cell_type": "code",
      "source": [
        "i = 0\n",
        "\n",
        "if i < 6:\n",
        "  print(i)\n",
        "  i = i+1\n",
        "\n",
        "print(f\"I'm outside if-clause with value of i: {i}\")"
      ],
      "metadata": {
        "id": "Pr8YJxD3OcEN"
      },
      "execution_count": null,
      "outputs": []
    },
    {
      "cell_type": "markdown",
      "source": [
        "### excercise 01: Skipping Negative Numbers in sum calculator"
      ],
      "metadata": {
        "id": "Rwyb71aIEjlu"
      }
    },
    {
      "cell_type": "code",
      "source": [
        "num_list = [1,2,-1,5,-4]\n",
        "len_of_list = len(num_list)\n",
        "sum = 0\n",
        "for i in range(len_of_list):\n",
        "  print(num_list[i])\n",
        "  sum = num_list[i]\n"
      ],
      "metadata": {
        "id": "dOVeurppQAp9"
      },
      "execution_count": null,
      "outputs": []
    },
    {
      "cell_type": "code",
      "source": [
        "num_list = [1,2,-1,5,-4]\n",
        "len_of_list = len(num_list)\n",
        "sum = 0\n",
        "for i in range(len_of_list):\n",
        "  if num_list[i] < 0:\n",
        "    sum = sum\n",
        "  else:\n",
        "    sum = sum + num_list[i]\n",
        "\n",
        "print(sum)"
      ],
      "metadata": {
        "id": "J0oyOh2uSxTj"
      },
      "execution_count": null,
      "outputs": []
    },
    {
      "cell_type": "code",
      "source": [
        "# Problem: sum = sum is has no effect\n",
        "num_list = [1,2,-1,5,-4]\n",
        "len_of_list = len(num_list)\n",
        "sum = 0\n",
        "for i in range(len_of_list):\n",
        "  if num_list[i] < 0:\n",
        "    continue\n",
        "  else:\n",
        "    sum = sum + num_list[i]\n",
        "  print(f\"I will always print when i is: {i}\")\n",
        "\n",
        "print(sum)"
      ],
      "metadata": {
        "id": "a19GVzqrVIXE"
      },
      "execution_count": null,
      "outputs": []
    },
    {
      "cell_type": "code",
      "source": [
        "# Task: sum all the nums from the list with while\n",
        "num_list = [1,2,-1,5,-4]\n",
        "len_of_list = len(num_list)\n",
        "i = 0\n",
        "sum = 0\n",
        "while i < len_of_list:\n",
        "  sum = sum+i\n",
        "  i = i+1\n",
        "print(sum)"
      ],
      "metadata": {
        "id": "qfrJMv1aEsXY"
      },
      "execution_count": null,
      "outputs": []
    },
    {
      "cell_type": "markdown",
      "source": [
        "# Class_09_10"
      ],
      "metadata": {
        "id": "kRuFVbqRwCMT"
      }
    },
    {
      "cell_type": "markdown",
      "source": [
        "## if-elif statement"
      ],
      "metadata": {
        "id": "x4lx2J750b03"
      }
    },
    {
      "cell_type": "markdown",
      "source": [
        "In Python, the `if...elif...else` statement is used for decision making, allowing the code to execute different blocks based on certain conditions."
      ],
      "metadata": {
        "id": "oS07Fx8j0hxg"
      }
    },
    {
      "cell_type": "code",
      "source": [
        "# Example of if...elif...else statement in Python\n",
        "\n",
        "# Variable to demonstrate the if...else statement\n",
        "x = 10\n",
        "\n",
        "# if statement\n",
        "if x > 0:\n",
        "    print(\"x is positive\")\n",
        "elif x == 0:\n",
        "    print(\"x is zero\")\n",
        "else:\n",
        "    print(\"x is negative\")"
      ],
      "metadata": {
        "id": "2GXiHSRP0qGX"
      },
      "execution_count": null,
      "outputs": []
    },
    {
      "cell_type": "code",
      "source": [
        "# Variable to demonstrate the if...elif...else statement\n",
        "age = 25\n",
        "\n",
        "# if statement\n",
        "if age < 18:\n",
        "    print(\"You are a minor.\")\n",
        "elif 18 <= age < 65:\n",
        "    print(\"You are an adult.\")\n",
        "else:\n",
        "    print(\"You are a senior.\")"
      ],
      "metadata": {
        "id": "vTxMEFFM0sze"
      },
      "execution_count": null,
      "outputs": []
    },
    {
      "cell_type": "code",
      "source": [
        "score = 855\n",
        "\n",
        "if 90 <= score <= 100:\n",
        "    print(\"Grade: A\")\n",
        "elif 80 <= score < 90:\n",
        "    print(\"Grade: B\")\n",
        "elif 70 <= score < 80:\n",
        "    print(\"Grade: C\")\n",
        "elif 60 <= score < 70:\n",
        "    print(\"Grade: D\")\n",
        "else:\n",
        "    print(\"Grade: F\")"
      ],
      "metadata": {
        "id": "NCHCmddC0vI3"
      },
      "execution_count": null,
      "outputs": []
    },
    {
      "cell_type": "code",
      "source": [
        "number = -5\n",
        "\n",
        "if number > 0:\n",
        "    print(\"The number is positive.\")\n",
        "elif number < 0:\n",
        "    print(\"The number is negative.\")\n",
        "else:\n",
        "    print(\"The number is zero.\")"
      ],
      "metadata": {
        "id": "chmLPv4l1v4W"
      },
      "execution_count": null,
      "outputs": []
    },
    {
      "cell_type": "markdown",
      "source": [
        "###Using '**or**'"
      ],
      "metadata": {
        "id": "Q8txj1lL2EFo"
      }
    },
    {
      "cell_type": "code",
      "source": [
        "age = 20\n",
        "is_member = False\n",
        "\n",
        "if age < 18 or is_member:\n",
        "    print(\"You qualify for a discount.\")\n",
        "else:\n",
        "    print(\"You do not qualify for a discount.\")"
      ],
      "metadata": {
        "id": "fb17CYAX2Iz4"
      },
      "execution_count": null,
      "outputs": []
    },
    {
      "cell_type": "markdown",
      "source": [
        "###Using '**and**'"
      ],
      "metadata": {
        "id": "Z7Y7vS0B2RHe"
      }
    },
    {
      "cell_type": "code",
      "source": [
        "high_income = True\n",
        "good_credit_score = False\n",
        "\n",
        "if high_income and good_credit_score:\n",
        "    print(\"You qualify for a loan.\")\n",
        "else:\n",
        "    print(\"You do not qualify for a loan.\")"
      ],
      "metadata": {
        "id": "QUIwNkte2KQa"
      },
      "execution_count": null,
      "outputs": []
    },
    {
      "cell_type": "markdown",
      "source": [
        "### Using both '**or**' and '**and**'"
      ],
      "metadata": {
        "id": "40HxHvlo2Yff"
      }
    },
    {
      "cell_type": "code",
      "source": [
        "age = 25\n",
        "is_member = False\n",
        "has_coupon = True\n",
        "\n",
        "if (age > 18 and age < 30) or is_member or has_coupon:\n",
        "    print(\"You are eligible for the special offer.\")\n",
        "else:\n",
        "    print(\"You are not eligible for the special offer.\")"
      ],
      "metadata": {
        "id": "mH5I8Kr92edV"
      },
      "execution_count": null,
      "outputs": []
    },
    {
      "cell_type": "code",
      "source": [
        "gpa = 3.8\n",
        "extracurricular_activities = True\n",
        "volunteer_work = False\n",
        "\n",
        "if gpa > 3.5 and (extracurricular_activities or volunteer_work):\n",
        "    print(\"You qualify for the scholarship.\")\n",
        "else:\n",
        "    print(\"You do not qualify for the scholarship.\")"
      ],
      "metadata": {
        "id": "vqAqXFzk2jIC"
      },
      "execution_count": null,
      "outputs": []
    },
    {
      "cell_type": "markdown",
      "source": [
        "## Use of break and continue control statement"
      ],
      "metadata": {
        "id": "Zt-4tyCJSYjs"
      }
    },
    {
      "cell_type": "markdown",
      "source": [
        "- break, continue statement"
      ],
      "metadata": {
        "id": "Ub5TEPARwD55"
      }
    },
    {
      "cell_type": "code",
      "source": [
        "# Problem: sum of positive number from list. if the list has negative number has it's a invalid list\n",
        "bank_note_list = [100,2,-10,5,500]\n",
        "len_of_list = len(bank_note_list)\n",
        "total_money = 0\n",
        "\n",
        "for i in range(len_of_list):\n",
        "  if bank_note_list[i] < 0:\n",
        "    # break\n",
        "    continue\n",
        "  else:\n",
        "    total_money = total_money + bank_note_list[i]\n",
        "  print(f\"I will always print when i is: {i}\")\n",
        "print(\"I'm outside for loop\")"
      ],
      "metadata": {
        "id": "oJoriFh61gVZ"
      },
      "execution_count": null,
      "outputs": []
    },
    {
      "cell_type": "code",
      "source": [
        "i = 0\n",
        "while True:\n",
        "  print(i)\n",
        "  i = i+1\n",
        "  break\n",
        "print(\"I'm outside infinite loop\")"
      ],
      "metadata": {
        "colab": {
          "base_uri": "https://localhost:8080/"
        },
        "id": "8wAikCjQ0wQ-",
        "outputId": "65fa7cb0-c306-41ec-aee6-8e7656d15952"
      },
      "execution_count": null,
      "outputs": [
        {
          "output_type": "stream",
          "name": "stdout",
          "text": [
            "0\n",
            "I'm outside infinite loop\n"
          ]
        }
      ]
    },
    {
      "cell_type": "code",
      "source": [
        "total = 0\n",
        "while True:\n",
        "  user_input = input(\"Enter the Num/'exit' command: \")\n",
        "  if user_input == 'exit':\n",
        "    break\n",
        "  total = total + int(user_input)\n",
        "\n",
        "print(\"The sum of the numbers you have given: \", total)"
      ],
      "metadata": {
        "colab": {
          "base_uri": "https://localhost:8080/"
        },
        "id": "fmKy8n3P3xN7",
        "outputId": "fb7dbe8a-1849-4fc2-e8aa-774e7bf358eb"
      },
      "execution_count": null,
      "outputs": [
        {
          "output_type": "stream",
          "name": "stdout",
          "text": [
            "Enter the Num/'exit' command: 6\n",
            "Enter the Num/'exit' command: 9\n",
            "Enter the Num/'exit' command: 3\n",
            "Enter the Num/'exit' command: exit\n",
            "The sum of the numbers you have given:  18\n"
          ]
        }
      ]
    },
    {
      "cell_type": "markdown",
      "source": [
        "## Tuples\n",
        "Tuples and list are almost same but Tuples are immutable sequences where list is not. Meaning once a tuple is created, its elements cannot be changed, added, or removed so methods like extend, append, insert, pop, remove aren't possible in tuples"
      ],
      "metadata": {
        "id": "b8UDDKgi82Ay"
      }
    },
    {
      "cell_type": "code",
      "execution_count": null,
      "metadata": {
        "id": "VEnYe9Kq4i3m"
      },
      "outputs": [],
      "source": [
        "t1 = (1, 2, 3)\n",
        "t2 = 1, 3, 3\n",
        "\n",
        "print(type(t1))\n",
        "print(type(t2))\n",
        "print(t1 == t2)\n"
      ]
    },
    {
      "cell_type": "code",
      "source": [
        "t2 = 1, 3, 3\n",
        "t2_list = list(t2)\n",
        "print(type(t2_list), t2, t2_list)"
      ],
      "metadata": {
        "id": "DEV0VgA06We3"
      },
      "execution_count": null,
      "outputs": []
    },
    {
      "cell_type": "code",
      "source": [
        "t = (1, 2, 3)\n",
        "print(t[0])  # Output: 1\n",
        "print(t[1])  # Output: 2"
      ],
      "metadata": {
        "colab": {
          "base_uri": "https://localhost:8080/"
        },
        "id": "mRauHpx19OWn",
        "outputId": "fed79eeb-ed32-45b3-b6c4-f5dd76f10f27"
      },
      "execution_count": null,
      "outputs": [
        {
          "output_type": "stream",
          "name": "stdout",
          "text": [
            "1\n",
            "2\n"
          ]
        }
      ]
    },
    {
      "cell_type": "code",
      "source": [
        "t = (1, 2, 3)\n",
        "print(t[-1])  # Output: 3\n",
        "print(t[-2])  # Output: 2"
      ],
      "metadata": {
        "id": "I_SWymbl9Q9O"
      },
      "execution_count": null,
      "outputs": []
    },
    {
      "cell_type": "code",
      "source": [
        "t = (1, 2, 3, 4, 5)\n",
        "print(t[1:3])   # Output: (2, 3)\n",
        "print(t[:3])    # Output: (1, 2, 3)\n",
        "print(t[3:])    # Output: (4, 5)"
      ],
      "metadata": {
        "id": "0_wjYzxd9UFn"
      },
      "execution_count": null,
      "outputs": []
    },
    {
      "cell_type": "code",
      "source": [
        "# t[0] = 10\n",
        "list_t = list(t)\n",
        "print(list_t)\n",
        "list_t[0] = 10\n",
        "print(list_t)"
      ],
      "metadata": {
        "id": "lhmBvRhf6vKG"
      },
      "execution_count": null,
      "outputs": []
    },
    {
      "cell_type": "code",
      "source": [
        "t = (1, 2, 3, 4)\n",
        "\n",
        "# Convert to list\n",
        "lst = list(t)\n",
        "\n",
        "# Modify the list\n",
        "lst[1] = 5\n",
        "\n",
        "# Convert back to tuple\n",
        "t = tuple(lst)\n",
        "print(t)  # Output: (1, 5, 3, 4)"
      ],
      "metadata": {
        "id": "Roe0MCqz9WBS"
      },
      "execution_count": null,
      "outputs": []
    },
    {
      "cell_type": "code",
      "source": [
        "#count\n",
        "t = (1, 2, 3, 2, 2, 4)\n",
        "print(t.count(5))  # Output: 3"
      ],
      "metadata": {
        "id": "8ErG3XPN9ZSV"
      },
      "execution_count": null,
      "outputs": []
    },
    {
      "cell_type": "code",
      "source": [
        "#index\n",
        "t = (1, 2, 3, 2, 4)\n",
        "print(t.index(5))  # Output: 1\n",
        "# print(t.index(5))  # Raises ValueError: tuple.index(x): x not in tuple"
      ],
      "metadata": {
        "id": "l4EQwPWw9b4p"
      },
      "execution_count": null,
      "outputs": []
    },
    {
      "cell_type": "code",
      "source": [
        "t = (1, 2, 3, 2, 4)\n",
        "\n",
        "# if 2 in t:\n",
        "#   print(\"The value has been found\")\n",
        "\n",
        "if 5 in t:\n",
        "  print(\"The value has been found\")"
      ],
      "metadata": {
        "id": "uYCnjhXa9jns"
      },
      "execution_count": null,
      "outputs": []
    },
    {
      "cell_type": "code",
      "source": [
        "t = (1, 2, 3, 2, 4)\n",
        "while True:\n",
        "  user_input = int(input(\"Search the num:\"))\n",
        "  if user_input in t:\n",
        "    print(\"Found\")\n",
        "  else:\n",
        "    print(\"Not Found\")"
      ],
      "metadata": {
        "id": "4x24j_nn-BKC"
      },
      "execution_count": null,
      "outputs": []
    },
    {
      "cell_type": "code",
      "source": [
        "t1 = (1, 2, 3, 4)\n",
        "t2 = (6, 7)\n",
        "t1 = t1+t2\n",
        "print(t1)"
      ],
      "metadata": {
        "id": "6g8iNnGa7Oaw"
      },
      "execution_count": null,
      "outputs": []
    },
    {
      "cell_type": "markdown",
      "source": [
        "# Class_11"
      ],
      "metadata": {
        "id": "YnYBjQq5Qace"
      }
    },
    {
      "cell_type": "markdown",
      "source": [
        "- Dictionary\n",
        "- Set\n",
        "- Operator & Operand\n",
        "- import a module\n",
        "- Errors\n",
        "- Function"
      ],
      "metadata": {
        "id": "czjMgzd0S7YJ"
      }
    },
    {
      "cell_type": "markdown",
      "source": [
        "##Dictionary\n",
        "Dictionary is a built-in data type used to store collections of key-value pairs. Each key in a dictionary is unique and immutable (such as a string, number, or tuple with immutable elements), while values can be of any data type and can be duplicated."
      ],
      "metadata": {
        "id": "qIk9ktx0bre1"
      }
    },
    {
      "cell_type": "code",
      "source": [
        "# Creating a dictionary\n",
        "my_dict = {\n",
        "    'name': 'Jakaria',\n",
        "    'age': 25,\n",
        "    'city': 'Sylhet',\n",
        "    'hobbies': ['Cricket', 'Football']\n",
        "}"
      ],
      "metadata": {
        "id": "1XARHv2Yb1FW"
      },
      "execution_count": null,
      "outputs": []
    },
    {
      "cell_type": "code",
      "source": [
        "print(my_dict)"
      ],
      "metadata": {
        "colab": {
          "base_uri": "https://localhost:8080/"
        },
        "id": "tkGZU1o--yDc",
        "outputId": "1b15356b-1b15-4c7c-a412-349080a67a82"
      },
      "execution_count": null,
      "outputs": [
        {
          "output_type": "stream",
          "name": "stdout",
          "text": [
            "{'name': 'Jakaria', 'age': 25, 'city': 'Sylhet', 'hobbies': ['Cricket', 'Football']}\n"
          ]
        }
      ]
    },
    {
      "cell_type": "code",
      "source": [
        "# Creating a dictionary using the dict constructor\n",
        "my_dict = dict(name='Ibrahim', age=23, city='Gaza', country = 'Sham')\n",
        "print(my_dict)"
      ],
      "metadata": {
        "id": "sK-mWIOCcDVg",
        "colab": {
          "base_uri": "https://localhost:8080/"
        },
        "outputId": "d63b672b-750f-499e-9b51-b6f7b3c19a49"
      },
      "execution_count": null,
      "outputs": [
        {
          "output_type": "stream",
          "name": "stdout",
          "text": [
            "{'name': 'Ibrahim', 'age': 23, 'city': 'Gaza', 'country': 'Sham'}\n"
          ]
        }
      ]
    },
    {
      "cell_type": "code",
      "source": [
        "# Accessing a value\n",
        "name = my_dict['city']\n",
        "print(name)"
      ],
      "metadata": {
        "id": "QMTJe7l6cGS-",
        "colab": {
          "base_uri": "https://localhost:8080/"
        },
        "outputId": "e787e3f4-2646-4880-9891-546266315bfb"
      },
      "execution_count": null,
      "outputs": [
        {
          "output_type": "stream",
          "name": "stdout",
          "text": [
            "Gaza\n"
          ]
        }
      ]
    },
    {
      "cell_type": "code",
      "source": [
        "# Accessing a value\n",
        "name = my_dict['university']\n",
        "print(name)"
      ],
      "metadata": {
        "id": "H0BtKZct_y2c",
        "colab": {
          "base_uri": "https://localhost:8080/",
          "height": 181
        },
        "outputId": "03ee00b6-2727-4cf0-db63-1fa0b25bb2f1"
      },
      "execution_count": null,
      "outputs": [
        {
          "output_type": "error",
          "ename": "KeyError",
          "evalue": "'university'",
          "traceback": [
            "\u001b[0;31m---------------------------------------------------------------------------\u001b[0m",
            "\u001b[0;31mKeyError\u001b[0m                                  Traceback (most recent call last)",
            "\u001b[0;32m<ipython-input-12-a02f7a39f471>\u001b[0m in \u001b[0;36m<cell line: 2>\u001b[0;34m()\u001b[0m\n\u001b[1;32m      1\u001b[0m \u001b[0;31m# Accessing a value\u001b[0m\u001b[0;34m\u001b[0m\u001b[0;34m\u001b[0m\u001b[0m\n\u001b[0;32m----> 2\u001b[0;31m \u001b[0mname\u001b[0m \u001b[0;34m=\u001b[0m \u001b[0mmy_dict\u001b[0m\u001b[0;34m[\u001b[0m\u001b[0;34m'university'\u001b[0m\u001b[0;34m]\u001b[0m\u001b[0;34m\u001b[0m\u001b[0;34m\u001b[0m\u001b[0m\n\u001b[0m\u001b[1;32m      3\u001b[0m \u001b[0mprint\u001b[0m\u001b[0;34m(\u001b[0m\u001b[0mname\u001b[0m\u001b[0;34m)\u001b[0m\u001b[0;34m\u001b[0m\u001b[0;34m\u001b[0m\u001b[0m\n",
            "\u001b[0;31mKeyError\u001b[0m: 'university'"
          ]
        }
      ]
    },
    {
      "cell_type": "code",
      "source": [
        "# Accessing a value safely\n",
        "name = my_dict.get('university')\n",
        "print(name)"
      ],
      "metadata": {
        "colab": {
          "base_uri": "https://localhost:8080/"
        },
        "id": "K1W03yLb_4BC",
        "outputId": "fe7c6335-7daa-4153-9c4a-ed40c26a225b"
      },
      "execution_count": null,
      "outputs": [
        {
          "output_type": "stream",
          "name": "stdout",
          "text": [
            "None\n"
          ]
        }
      ]
    },
    {
      "cell_type": "code",
      "source": [
        "# Using a default value if key is not found\n",
        "country = my_dict.get('country', 'Palestine')\n",
        "print(country)"
      ],
      "metadata": {
        "id": "rjVHPhDIcMBd",
        "colab": {
          "base_uri": "https://localhost:8080/"
        },
        "outputId": "59a45f59-cbc4-4d09-c227-01dab9de8acc"
      },
      "execution_count": null,
      "outputs": [
        {
          "output_type": "stream",
          "name": "stdout",
          "text": [
            "Sham\n"
          ]
        }
      ]
    },
    {
      "cell_type": "code",
      "source": [
        "my_dict"
      ],
      "metadata": {
        "colab": {
          "base_uri": "https://localhost:8080/"
        },
        "id": "I7Ov1AgcAkJ9",
        "outputId": "970523fb-6d43-4e82-e803-d52f409f4c3e"
      },
      "execution_count": null,
      "outputs": [
        {
          "output_type": "execute_result",
          "data": {
            "text/plain": [
              "{'name': 'Ibrahim', 'age': 23, 'city': 'Gaza', 'country': 'Sham'}"
            ]
          },
          "metadata": {},
          "execution_count": 18
        }
      ]
    },
    {
      "cell_type": "code",
      "source": [
        "# Modifying a value\n",
        "my_dict['age'] = 24\n",
        "print(my_dict)"
      ],
      "metadata": {
        "id": "m_18AAlYcPBX",
        "colab": {
          "base_uri": "https://localhost:8080/"
        },
        "outputId": "a7ed8112-2fba-4bb0-8bdd-61d2e9437c14"
      },
      "execution_count": null,
      "outputs": [
        {
          "output_type": "stream",
          "name": "stdout",
          "text": [
            "{'name': 'Ibrahim', 'age': 24, 'city': 'Gaza', 'country': 'Sham'}\n"
          ]
        }
      ]
    },
    {
      "cell_type": "code",
      "source": [
        "# Adding a new key-value pair\n",
        "my_dict['email'] = 'ancient@example.com'\n",
        "print(my_dict)"
      ],
      "metadata": {
        "id": "5rNxJ8bCcSC1",
        "colab": {
          "base_uri": "https://localhost:8080/"
        },
        "outputId": "2a7a971b-1abd-4aff-c58d-9e1bc12d9067"
      },
      "execution_count": null,
      "outputs": [
        {
          "output_type": "stream",
          "name": "stdout",
          "text": [
            "{'name': 'Ibrahim', 'age': 24, 'city': 'Gaza', 'country': 'Sham', 'email': 'ancient@example.com'}\n"
          ]
        }
      ]
    },
    {
      "cell_type": "code",
      "source": [
        "# Removing a key-value pair using del\n",
        "del my_dict['city']\n",
        "print(my_dict)"
      ],
      "metadata": {
        "colab": {
          "base_uri": "https://localhost:8080/"
        },
        "id": "zPHb4YkK4hXt",
        "outputId": "43af48d0-0103-4b32-cba0-0a5a0ed915db"
      },
      "execution_count": null,
      "outputs": [
        {
          "output_type": "stream",
          "name": "stdout",
          "text": [
            "{'name': 'Ibrahim', 'age': 24, 'country': 'Sham', 'email': 'ancient@example.com'}\n"
          ]
        }
      ]
    },
    {
      "cell_type": "code",
      "source": [
        "# Removing a key-value pair using pop\n",
        "age = my_dict.pop('age')\n",
        "print(age)\n",
        "print(my_dict)"
      ],
      "metadata": {
        "id": "HD1-GTAGcU9H",
        "colab": {
          "base_uri": "https://localhost:8080/"
        },
        "outputId": "341f10d0-8afa-4cec-f6f1-034a9f8fa14a"
      },
      "execution_count": null,
      "outputs": [
        {
          "output_type": "stream",
          "name": "stdout",
          "text": [
            "24\n",
            "{'name': 'Ibrahim', 'country': 'Sham', 'email': 'ancient@example.com'}\n"
          ]
        }
      ]
    },
    {
      "cell_type": "markdown",
      "source": [
        "###Dictionary Methods\n",
        "Here are some useful dictionary methods:\n",
        "* **keys()**: Returns a view object containing the dictionary's keys.\n",
        "* **values()**: Returns a view object containing the dictionary's values.\n",
        "* **items()**: Returns a view object containing the dictionary's key-value pairs.\n",
        "* **update()**: Updates the dictionary with key-value pairs from another dictionary or an iterable of key-value pairs.\n",
        "\n"
      ],
      "metadata": {
        "id": "vYqxulefcbmg"
      }
    },
    {
      "cell_type": "code",
      "source": [
        "# Dictionary methods\n",
        "keys = my_dict.keys()\n",
        "print(keys)"
      ],
      "metadata": {
        "colab": {
          "base_uri": "https://localhost:8080/"
        },
        "id": "tvZxCaUI44Zd",
        "outputId": "5c4e63ad-aa8a-44b1-ee37-456e1e6c8716"
      },
      "execution_count": null,
      "outputs": [
        {
          "output_type": "stream",
          "name": "stdout",
          "text": [
            "dict_keys(['name', 'country', 'email'])\n"
          ]
        }
      ]
    },
    {
      "cell_type": "code",
      "source": [
        "values = my_dict.values()\n",
        "print(values)"
      ],
      "metadata": {
        "colab": {
          "base_uri": "https://localhost:8080/"
        },
        "id": "cS9Qda0b488V",
        "outputId": "03591a88-83a9-4438-ef94-b32de6113820"
      },
      "execution_count": null,
      "outputs": [
        {
          "output_type": "stream",
          "name": "stdout",
          "text": [
            "dict_values(['Ibrahim', 'Sham', 'ancient@example.com'])\n"
          ]
        }
      ]
    },
    {
      "cell_type": "code",
      "source": [
        "items = my_dict.items()\n",
        "print(items)"
      ],
      "metadata": {
        "colab": {
          "base_uri": "https://localhost:8080/"
        },
        "id": "1vhmh58e5CSO",
        "outputId": "ed1d59c4-8b47-4815-8581-b7940e403a46"
      },
      "execution_count": null,
      "outputs": [
        {
          "output_type": "stream",
          "name": "stdout",
          "text": [
            "dict_items([('name', 'Ibrahim'), ('country', 'Sham'), ('email', 'ancient@example.com')])\n"
          ]
        }
      ]
    },
    {
      "cell_type": "code",
      "source": [
        "for item in my_dict:\n",
        "  print(item, my_dict[item])"
      ],
      "metadata": {
        "colab": {
          "base_uri": "https://localhost:8080/"
        },
        "id": "EZLHmWoM5MdR",
        "outputId": "9d95047e-b9be-4dc5-af13-eeb1590a23c8"
      },
      "execution_count": null,
      "outputs": [
        {
          "output_type": "stream",
          "name": "stdout",
          "text": [
            "name Ibrahim\n",
            "country Sham\n",
            "email ancient@example.com\n"
          ]
        }
      ]
    },
    {
      "cell_type": "code",
      "source": [
        "# Updating the dictionary\n",
        "my_dict.update({'city': 'Bagdadh', 'phone': '964-123-4567-890'})\n",
        "print(my_dict)"
      ],
      "metadata": {
        "id": "oSDbnjSncX9j",
        "colab": {
          "base_uri": "https://localhost:8080/"
        },
        "outputId": "f754a141-e322-4b21-e418-9c9560e3792d"
      },
      "execution_count": null,
      "outputs": [
        {
          "output_type": "stream",
          "name": "stdout",
          "text": [
            "{'name': 'Ibrahim', 'country': 'Sham', 'email': 'ancient@example.com', 'city': 'Bagdadh', 'phone': '964-123-4567-890'}\n"
          ]
        }
      ]
    },
    {
      "cell_type": "code",
      "source": [
        "my_dict.update({'country': 'Iraq'})\n",
        "print(my_dict)"
      ],
      "metadata": {
        "colab": {
          "base_uri": "https://localhost:8080/"
        },
        "id": "6dEYtNs35mPP",
        "outputId": "3396c470-3d5f-4b69-8d44-cda945d375ec"
      },
      "execution_count": null,
      "outputs": [
        {
          "output_type": "stream",
          "name": "stdout",
          "text": [
            "{'name': 'Ibrahim', 'country': 'Iraq', 'email': 'ancient@example.com', 'city': 'Bagdadh', 'phone': '964-123-4567-890'}\n"
          ]
        }
      ]
    },
    {
      "cell_type": "code",
      "source": [
        "# Iterating over keys\n",
        "for key in my_dict:\n",
        "    print(key, my_dict[key])\n",
        "\n",
        "# Iterating over values\n",
        "for value in my_dict.values():\n",
        "    print(value)\n",
        "\n",
        "# Iterating over key-value pairs\n",
        "for key, value in my_dict.items():\n",
        "    print(key, value)"
      ],
      "metadata": {
        "id": "Hzg4J2p7de00",
        "colab": {
          "base_uri": "https://localhost:8080/"
        },
        "outputId": "bbb5a699-fb11-4e1e-ba47-079cc37267fb"
      },
      "execution_count": null,
      "outputs": [
        {
          "output_type": "stream",
          "name": "stdout",
          "text": [
            "name Ibrahim\n",
            "country Iraq\n",
            "email ancient@example.com\n",
            "city Bagdadh\n",
            "phone 964-123-4567-890\n"
          ]
        }
      ]
    },
    {
      "cell_type": "code",
      "source": [
        "#Full example\n",
        "\n",
        "# Create a dictionary\n",
        "person = {\n",
        "    'name': 'Fatema',\n",
        "    'age': 30,\n",
        "    'job': 'Tutor'\n",
        "}\n",
        "\n",
        "# Access a value\n",
        "print(person['name'])\n",
        "\n",
        "# Modify a value\n",
        "person['age'] = 31\n",
        "\n",
        "# Add a new key-value pair\n",
        "person['email'] = 'fatema@history.com'\n",
        "\n",
        "# Remove a key-value pair\n",
        "del person['job']\n",
        "\n",
        "# Print the dictionary\n",
        "print(person)\n",
        "\n",
        "# Using dictionary methods\n",
        "print(person.keys())\n",
        "print(person.values())\n",
        "print(person.items())\n",
        "\n",
        "# Iterating over dictionary\n",
        "for key, value in person.items():\n",
        "    print(key, value)\n"
      ],
      "metadata": {
        "id": "xkS26unRdjZP"
      },
      "execution_count": null,
      "outputs": []
    },
    {
      "cell_type": "markdown",
      "source": [
        "##Set\n",
        "In Python, a set is an unordered collection of unique elements. Sets are useful when you want to eliminate duplicate values from a list or when you need to perform mathematical set operations like union, intersection, and difference."
      ],
      "metadata": {
        "id": "aj1u_AApdvxu"
      }
    },
    {
      "cell_type": "code",
      "source": [
        "# Creating a set with curly braces\n",
        "my_set = {7, 1, 2, 3, 4, 5, 2}\n",
        "print(my_set)"
      ],
      "metadata": {
        "colab": {
          "base_uri": "https://localhost:8080/"
        },
        "id": "8xjiiYf47Bel",
        "outputId": "e5252124-8138-4455-c897-43ae268bbe00"
      },
      "execution_count": null,
      "outputs": [
        {
          "output_type": "stream",
          "name": "stdout",
          "text": [
            "{1, 2, 3, 4, 5, 7}\n"
          ]
        }
      ]
    },
    {
      "cell_type": "code",
      "source": [
        "# Creating a set from a list using the set function\n",
        "my_list = [1, 2, 3, 4, 5, 4]\n",
        "my_set = set(my_list)\n",
        "print(my_list, my_set)"
      ],
      "metadata": {
        "colab": {
          "base_uri": "https://localhost:8080/"
        },
        "id": "8mEGu6Xg7dsi",
        "outputId": "4a579b05-07ac-44a7-c86c-772ccde5cbdd"
      },
      "execution_count": null,
      "outputs": [
        {
          "output_type": "stream",
          "name": "stdout",
          "text": [
            "[1, 2, 3, 4, 5, 4] {1, 2, 3, 4, 5}\n"
          ]
        }
      ]
    },
    {
      "cell_type": "code",
      "source": [
        "# Creating a set from a string\n",
        "my_set = set('hello')\n",
        "print(my_set)"
      ],
      "metadata": {
        "id": "PM_t0f1wdx1U",
        "colab": {
          "base_uri": "https://localhost:8080/"
        },
        "outputId": "6210a1a1-4805-4f3d-8950-f76a6d5d483a"
      },
      "execution_count": null,
      "outputs": [
        {
          "output_type": "stream",
          "name": "stdout",
          "text": [
            "{'o', 'l', 'e', 'h'}\n"
          ]
        }
      ]
    },
    {
      "cell_type": "code",
      "source": [
        "# Adding a single element\n",
        "my_set = {1, 2, 3, 128}\n",
        "my_set.add(6)\n",
        "my_set.add(4)\n",
        "print(my_set)"
      ],
      "metadata": {
        "colab": {
          "base_uri": "https://localhost:8080/"
        },
        "id": "Q7aDw5Aa8BPn",
        "outputId": "60dc5f02-fb12-4df2-a3e3-abb9ea7bf81c"
      },
      "execution_count": null,
      "outputs": [
        {
          "output_type": "stream",
          "name": "stdout",
          "text": [
            "{128, 1, 2, 3, 4, 6}\n"
          ]
        }
      ]
    },
    {
      "cell_type": "code",
      "source": [
        "# Adding multiple elements\n",
        "my_set.update([5, 6, 7])\n",
        "print(my_set)"
      ],
      "metadata": {
        "colab": {
          "base_uri": "https://localhost:8080/"
        },
        "id": "-nb2kPtM-eu4",
        "outputId": "d1400286-767b-4dbe-aeb2-730c33adb0b4"
      },
      "execution_count": null,
      "outputs": [
        {
          "output_type": "stream",
          "name": "stdout",
          "text": [
            "{128, 1, 2, 3, 4, 5, 6, 7}\n"
          ]
        }
      ]
    },
    {
      "cell_type": "code",
      "source": [
        "# Adding multiple elements\n",
        "my_set.update({5, 6, 7, 8})\n",
        "print(my_set)"
      ],
      "metadata": {
        "id": "uLwCuTHtd87R"
      },
      "execution_count": null,
      "outputs": []
    },
    {
      "cell_type": "code",
      "source": [
        "# Removing an element\n",
        "my_set = {1, 2, 3, 4}\n",
        "my_set.remove(3)\n",
        "print(my_set)"
      ],
      "metadata": {
        "id": "HJi0GCL7eFQB",
        "colab": {
          "base_uri": "https://localhost:8080/"
        },
        "outputId": "ac271541-6e07-440b-9f48-c986a59ad75c"
      },
      "execution_count": null,
      "outputs": [
        {
          "output_type": "stream",
          "name": "stdout",
          "text": [
            "{1, 2, 4}\n"
          ]
        }
      ]
    },
    {
      "cell_type": "code",
      "source": [
        "# Removing an element\n",
        "my_set = {1, 2, 3, 4}\n",
        "my_set.remove(5)\n",
        "print(my_set)"
      ],
      "metadata": {
        "colab": {
          "base_uri": "https://localhost:8080/",
          "height": 199
        },
        "id": "gRzcuVKH-o6p",
        "outputId": "7f0ac0c1-0424-4d1d-f930-5c54c6edc775"
      },
      "execution_count": null,
      "outputs": [
        {
          "output_type": "error",
          "ename": "KeyError",
          "evalue": "5",
          "traceback": [
            "\u001b[0;31m---------------------------------------------------------------------------\u001b[0m",
            "\u001b[0;31mKeyError\u001b[0m                                  Traceback (most recent call last)",
            "\u001b[0;32m<ipython-input-51-988858f0688d>\u001b[0m in \u001b[0;36m<cell line: 3>\u001b[0;34m()\u001b[0m\n\u001b[1;32m      1\u001b[0m \u001b[0;31m# Removing an element\u001b[0m\u001b[0;34m\u001b[0m\u001b[0;34m\u001b[0m\u001b[0m\n\u001b[1;32m      2\u001b[0m \u001b[0mmy_set\u001b[0m \u001b[0;34m=\u001b[0m \u001b[0;34m{\u001b[0m\u001b[0;36m1\u001b[0m\u001b[0;34m,\u001b[0m \u001b[0;36m2\u001b[0m\u001b[0;34m,\u001b[0m \u001b[0;36m3\u001b[0m\u001b[0;34m,\u001b[0m \u001b[0;36m4\u001b[0m\u001b[0;34m}\u001b[0m\u001b[0;34m\u001b[0m\u001b[0;34m\u001b[0m\u001b[0m\n\u001b[0;32m----> 3\u001b[0;31m \u001b[0mmy_set\u001b[0m\u001b[0;34m.\u001b[0m\u001b[0mremove\u001b[0m\u001b[0;34m(\u001b[0m\u001b[0;36m5\u001b[0m\u001b[0;34m)\u001b[0m\u001b[0;34m\u001b[0m\u001b[0;34m\u001b[0m\u001b[0m\n\u001b[0m\u001b[1;32m      4\u001b[0m \u001b[0mprint\u001b[0m\u001b[0;34m(\u001b[0m\u001b[0mmy_set\u001b[0m\u001b[0;34m)\u001b[0m\u001b[0;34m\u001b[0m\u001b[0;34m\u001b[0m\u001b[0m\n",
            "\u001b[0;31mKeyError\u001b[0m: 5"
          ]
        }
      ]
    },
    {
      "cell_type": "code",
      "source": [
        "# Removing an element that doesn't exist using discard (no error)\n",
        "my_set.discard(5)\n",
        "print(my_set)"
      ],
      "metadata": {
        "colab": {
          "base_uri": "https://localhost:8080/"
        },
        "id": "gWycGdPVUqHn",
        "outputId": "37e71332-07d6-4959-9cdd-c9c708da6c96"
      },
      "execution_count": null,
      "outputs": [
        {
          "output_type": "stream",
          "name": "stdout",
          "text": [
            "{1, 2, 3}\n"
          ]
        }
      ]
    },
    {
      "cell_type": "code",
      "source": [
        "# Clearing a set\n",
        "my_set = {1, 2, 3, 4}\n",
        "my_set.clear()\n",
        "print(my_set)"
      ],
      "metadata": {
        "id": "I20rf_FbeKUj",
        "colab": {
          "base_uri": "https://localhost:8080/"
        },
        "outputId": "9bde0365-a3cb-4bbc-abef-b878435ba1cf"
      },
      "execution_count": null,
      "outputs": [
        {
          "output_type": "stream",
          "name": "stdout",
          "text": [
            "set()\n"
          ]
        }
      ]
    },
    {
      "cell_type": "markdown",
      "source": [
        "###Set Operations"
      ],
      "metadata": {
        "id": "85RUxGA4earY"
      }
    },
    {
      "cell_type": "markdown",
      "source": [
        "![image.png](data:image/png;base64,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)"
      ],
      "metadata": {
        "id": "GHvrpoTFVIbB"
      }
    },
    {
      "cell_type": "code",
      "source": [
        "# Creating sets\n",
        "set_a = {1, 2, 3}\n",
        "set_b = {3, 4, 5}\n",
        "\n",
        "# Union\n",
        "union_set = set_a.union(set_b)\n",
        "print(union_set)  # Output: {1, 2, 3, 4, 5}\n",
        "\n",
        "intersect_set = set_a.intersection(set_b)\n",
        "print(intersect_set)\n",
        "\n",
        "diff = set_a.difference(set_b)\n",
        "print(diff)"
      ],
      "metadata": {
        "colab": {
          "base_uri": "https://localhost:8080/"
        },
        "id": "KUX5qv5q-_CA",
        "outputId": "0e5d0d0a-c7dd-483c-d8f3-98e662361899"
      },
      "execution_count": null,
      "outputs": [
        {
          "output_type": "stream",
          "name": "stdout",
          "text": [
            "{1, 2, 3, 4, 5}\n",
            "{3}\n",
            "{1, 2}\n"
          ]
        }
      ]
    },
    {
      "cell_type": "code",
      "source": [
        "# Symmetric Difference\n",
        "set_a = {1, 2, 3}\n",
        "set_b = {3, 4, 5}\n",
        "\n",
        "symmetric_difference_set = set_a.symmetric_difference(set_b)\n",
        "print(symmetric_difference_set)"
      ],
      "metadata": {
        "colab": {
          "base_uri": "https://localhost:8080/"
        },
        "id": "qzSsWAN3_nWE",
        "outputId": "39917997-5f99-4c6d-c0d1-f88091f68e0c"
      },
      "execution_count": null,
      "outputs": [
        {
          "output_type": "stream",
          "name": "stdout",
          "text": [
            "{1, 2, 4, 5}\n"
          ]
        }
      ]
    },
    {
      "cell_type": "code",
      "source": [
        "# Intersection\n",
        "intersection_set = set_a.intersection(set_b)\n",
        "print(intersection_set)  # Output: {3}\n",
        "\n",
        "# Difference\n",
        "difference_set = set_a.difference(set_b)\n",
        "print(difference_set)  # Output: {1, 2}\n",
        "\n",
        "# Symmetric Difference\n",
        "symmetric_difference_set = set_a.symmetric_difference(set_b)\n",
        "print(symmetric_difference_set)  # Output: {1, 2, 4, 5}\n"
      ],
      "metadata": {
        "id": "fGBL-jzEeWaJ"
      },
      "execution_count": null,
      "outputs": []
    },
    {
      "cell_type": "markdown",
      "source": [
        "###Set Comparisons"
      ],
      "metadata": {
        "id": "cZ_x6izzeein"
      }
    },
    {
      "cell_type": "code",
      "source": [
        "# Subset\n",
        "set_a = {1, 2, 3}\n",
        "set_b = {1, 2}\n",
        "print(set_b.issubset(set_a))\n",
        "print(set_a.issubset(set_b))"
      ],
      "metadata": {
        "colab": {
          "base_uri": "https://localhost:8080/"
        },
        "id": "bGpXJe9gAOmB",
        "outputId": "bdc433a7-d864-479b-cd12-c5f79f0fb756"
      },
      "execution_count": null,
      "outputs": [
        {
          "output_type": "stream",
          "name": "stdout",
          "text": [
            "True\n",
            "False\n"
          ]
        }
      ]
    },
    {
      "cell_type": "code",
      "source": [
        "# Superset\n",
        "print(set_a.issuperset(set_b))  # Output: True"
      ],
      "metadata": {
        "colab": {
          "base_uri": "https://localhost:8080/"
        },
        "id": "SoFMowx9AidE",
        "outputId": "a0013d2a-e767-4178-c4c1-2d4637d695fe"
      },
      "execution_count": null,
      "outputs": [
        {
          "output_type": "stream",
          "name": "stdout",
          "text": [
            "True\n"
          ]
        }
      ]
    },
    {
      "cell_type": "code",
      "source": [
        "# Equality\n",
        "set_a = {1, 2, 3}\n",
        "set_b = {1, 2}\n",
        "set_c = {1, 2, 3}\n",
        "print(set_b == set_c)"
      ],
      "metadata": {
        "id": "dQOdBHX8eiw_",
        "colab": {
          "base_uri": "https://localhost:8080/"
        },
        "outputId": "2e46a715-25b9-4741-f68e-ba59cc9a5c28"
      },
      "execution_count": null,
      "outputs": [
        {
          "output_type": "stream",
          "name": "stdout",
          "text": [
            "False\n"
          ]
        }
      ]
    },
    {
      "cell_type": "code",
      "source": [
        "# Iterating over a set\n",
        "my_set = {1, 2, 3, 4, 5}\n",
        "for element in my_set:\n",
        "    print(element)"
      ],
      "metadata": {
        "id": "FHw8gvzSeqHy",
        "colab": {
          "base_uri": "https://localhost:8080/"
        },
        "outputId": "6f309ff6-6cc5-4d8a-ffb6-88900409b7e1"
      },
      "execution_count": null,
      "outputs": [
        {
          "output_type": "stream",
          "name": "stdout",
          "text": [
            "1\n",
            "2\n",
            "3\n",
            "4\n",
            "5\n"
          ]
        }
      ]
    },
    {
      "cell_type": "code",
      "source": [
        "my_set[0]"
      ],
      "metadata": {
        "id": "PEh4EJSYVX6S"
      },
      "execution_count": null,
      "outputs": []
    },
    {
      "cell_type": "code",
      "source": [
        "# Full Example\n",
        "\n",
        "# Create sets\n",
        "set1 = {1, 2, 3, 4}\n",
        "set2 = {3, 4, 5, 6}\n",
        "\n",
        "# Add elements\n",
        "set1.add(7)\n",
        "set1.update([8, 9])\n",
        "\n",
        "# Remove elements\n",
        "set1.remove(9)\n",
        "set1.discard(10)  # No error if 10 is not in the set\n",
        "\n",
        "# Union, Intersection, Difference, Symmetric Difference\n",
        "union_set = set1.union(set2)\n",
        "intersection_set = set1.intersection(set2)\n",
        "difference_set = set1.difference(set2)\n",
        "sym_diff_set = set1.symmetric_difference(set2)\n",
        "\n",
        "# Subset, Superset, Equality\n",
        "is_subset = set2.issubset(set1)\n",
        "is_superset = set1.issuperset(set2)\n",
        "is_equal = set1 == set2\n",
        "\n",
        "# Print results\n",
        "print(\"Set1:\", set1)\n",
        "print(\"Set2:\", set2)\n",
        "print(\"Union:\", union_set)\n",
        "print(\"Intersection:\", intersection_set)\n",
        "print(\"Difference:\", difference_set)\n",
        "print(\"Symmetric Difference:\", sym_diff_set)\n",
        "print(\"Is Subset:\", is_subset)\n",
        "print(\"Is Superset:\", is_superset)\n",
        "print(\"Is Equal:\", is_equal)\n",
        "\n",
        "# Iterate over set\n",
        "for element in set1:\n",
        "    print(element)\n"
      ],
      "metadata": {
        "id": "mKc_BAhdetQU"
      },
      "execution_count": null,
      "outputs": []
    },
    {
      "cell_type": "markdown",
      "source": [
        "## Operators and operands"
      ],
      "metadata": {
        "id": "R6b6bREhRSXL"
      }
    },
    {
      "cell_type": "code",
      "source": [
        "print(2 + 5)\n",
        "print(2 - 5)\n",
        "print(2 * 5)\n",
        "print(2 / 5)\n",
        "\n",
        "# 2^5\n",
        "print(2 ** 7)\n",
        "\n",
        "# 5 mod 2 = 1\n",
        "print(5 % 2)\n"
      ],
      "metadata": {
        "colab": {
          "base_uri": "https://localhost:8080/"
        },
        "id": "4OTmWeBZPwgz",
        "outputId": "71c7ca8d-ee28-4840-ad1c-86e1568298db"
      },
      "execution_count": null,
      "outputs": [
        {
          "output_type": "stream",
          "name": "stdout",
          "text": [
            "7\n",
            "-3\n",
            "10\n",
            "0.4\n",
            "128\n",
            "1\n"
          ]
        }
      ]
    },
    {
      "cell_type": "code",
      "source": [
        "# Integer Divison\n",
        "print(9 // 2, type(9//5))"
      ],
      "metadata": {
        "colab": {
          "base_uri": "https://localhost:8080/"
        },
        "id": "GIcXDjL6Rqv_",
        "outputId": "f9464f15-0829-49a1-ddab-1600036757c9"
      },
      "execution_count": null,
      "outputs": [
        {
          "output_type": "stream",
          "name": "stdout",
          "text": [
            "4 <class 'int'>\n"
          ]
        }
      ]
    },
    {
      "cell_type": "code",
      "source": [
        "# Assignment operator\n",
        "# Statement\n",
        "a = 10\n",
        "b = 10.5\n",
        "\n",
        "a = b // 5\n",
        "\n",
        "# Expression\n",
        "print(10/5, a)"
      ],
      "metadata": {
        "colab": {
          "base_uri": "https://localhost:8080/"
        },
        "id": "948rBII4STUH",
        "outputId": "94f47744-d648-4d61-8c06-d7e3bd283df0"
      },
      "execution_count": null,
      "outputs": [
        {
          "output_type": "stream",
          "name": "stdout",
          "text": [
            "2.0 2.0\n"
          ]
        }
      ]
    },
    {
      "cell_type": "code",
      "source": [
        "a = 10\n",
        "b = 3\n",
        "\n",
        "\n",
        "a = a % b\n",
        "a %= b\n",
        "a += b\n",
        "\n",
        "print(a)"
      ],
      "metadata": {
        "id": "c9w5ZqncTnah"
      },
      "execution_count": null,
      "outputs": []
    },
    {
      "cell_type": "code",
      "source": [
        "a = 5\n",
        "print(a) # 5\n",
        "\n",
        "a = a + 5\n",
        "print(\"a+5 -> \",a) # 6\n",
        "\n",
        "a += 5\n",
        "print(\"a+=5 ->\",a)\n",
        "\n",
        "a -= 5\n",
        "print(\"a-=5 ->\",a)\n",
        "\n",
        "a /= 5\n",
        "print(\"a/=5 ->\",a)\n",
        "\n",
        "a *= 5\n",
        "print(\"a*=5 ->\",a)"
      ],
      "metadata": {
        "colab": {
          "base_uri": "https://localhost:8080/"
        },
        "id": "iuyh_V6cNPSy",
        "outputId": "0a1a49c1-9d5c-42d7-a892-a639729eb3f3"
      },
      "execution_count": null,
      "outputs": [
        {
          "output_type": "stream",
          "name": "stdout",
          "text": [
            "5\n",
            "a+5 ->  10\n",
            "a+=5 -> 15\n",
            "a-=5 -> 10\n",
            "a/=5 -> 2.0\n",
            "a*=5 -> 10.0\n"
          ]
        }
      ]
    },
    {
      "cell_type": "code",
      "source": [
        "a = 10\n",
        "b = 3\n",
        "# a %= b\n",
        "# a == b\n",
        "# a != b\n",
        "# a > b\n",
        "# a < b\n",
        "a <= b"
      ],
      "metadata": {
        "id": "jk_xx8s5UDf3"
      },
      "execution_count": null,
      "outputs": []
    },
    {
      "cell_type": "markdown",
      "source": [
        "## import a module"
      ],
      "metadata": {
        "id": "3_C4S1KFVTIW"
      }
    },
    {
      "cell_type": "code",
      "source": [
        "import math\n",
        "print(math.pi)"
      ],
      "metadata": {
        "colab": {
          "base_uri": "https://localhost:8080/"
        },
        "id": "EB-ztW5S-LuE",
        "outputId": "34a54189-369d-4299-db31-f0e15362b921"
      },
      "execution_count": null,
      "outputs": [
        {
          "output_type": "stream",
          "name": "stdout",
          "text": [
            "3.141592653589793\n"
          ]
        }
      ]
    },
    {
      "cell_type": "code",
      "source": [
        "2^5"
      ],
      "metadata": {
        "colab": {
          "base_uri": "https://localhost:8080/"
        },
        "id": "coFoNdFM-in3",
        "outputId": "1236a56b-0188-4a75-ad3f-c6a0ed906d1a"
      },
      "execution_count": null,
      "outputs": [
        {
          "output_type": "execute_result",
          "data": {
            "text/plain": [
              "7"
            ]
          },
          "metadata": {},
          "execution_count": 14
        }
      ]
    },
    {
      "cell_type": "code",
      "source": [
        "# 2^5 ==> 2**5\n",
        "print(math.pow(2,5))"
      ],
      "metadata": {
        "id": "IAZ-PeYbVSAd",
        "colab": {
          "base_uri": "https://localhost:8080/"
        },
        "outputId": "1dc6ba32-958b-4f18-b2c6-f26fbb2f0778"
      },
      "execution_count": null,
      "outputs": [
        {
          "output_type": "stream",
          "name": "stdout",
          "text": [
            "32.0\n"
          ]
        }
      ]
    },
    {
      "cell_type": "code",
      "source": [
        "print(math.floor(1.22334))"
      ],
      "metadata": {
        "id": "BIRkxxEpVe3V",
        "colab": {
          "base_uri": "https://localhost:8080/"
        },
        "outputId": "13ed4069-f7bb-439e-c541-bc739910426b"
      },
      "execution_count": null,
      "outputs": [
        {
          "output_type": "stream",
          "name": "stdout",
          "text": [
            "1\n"
          ]
        }
      ]
    },
    {
      "cell_type": "code",
      "source": [
        "print(math.ceil(1.22334))"
      ],
      "metadata": {
        "id": "wHDzR6qoWhWh",
        "colab": {
          "base_uri": "https://localhost:8080/"
        },
        "outputId": "481f1d8f-aaca-4205-812a-e93619be19e3"
      },
      "execution_count": null,
      "outputs": [
        {
          "output_type": "stream",
          "name": "stdout",
          "text": [
            "2\n"
          ]
        }
      ]
    },
    {
      "cell_type": "code",
      "source": [
        "import math"
      ],
      "metadata": {
        "id": "MAUuisZDXNsQ"
      },
      "execution_count": null,
      "outputs": []
    },
    {
      "cell_type": "code",
      "source": [
        "print(math.ceil(1.22334))"
      ],
      "metadata": {
        "id": "lXQRHd-uW6dS"
      },
      "execution_count": null,
      "outputs": []
    },
    {
      "cell_type": "code",
      "source": [
        "print(math.round(1.22334))\n",
        "# print(round(1.52334))"
      ],
      "metadata": {
        "id": "yf1EbGofXHuK",
        "colab": {
          "base_uri": "https://localhost:8080/",
          "height": 163
        },
        "outputId": "c201898a-1d1d-4b6b-874b-ee657f10ffbb"
      },
      "execution_count": null,
      "outputs": [
        {
          "output_type": "error",
          "ename": "AttributeError",
          "evalue": "module 'math' has no attribute 'round'",
          "traceback": [
            "\u001b[0;31m---------------------------------------------------------------------------\u001b[0m",
            "\u001b[0;31mAttributeError\u001b[0m                            Traceback (most recent call last)",
            "\u001b[0;32m<ipython-input-20-b202ddf2fd73>\u001b[0m in \u001b[0;36m<cell line: 1>\u001b[0;34m()\u001b[0m\n\u001b[0;32m----> 1\u001b[0;31m \u001b[0mprint\u001b[0m\u001b[0;34m(\u001b[0m\u001b[0mmath\u001b[0m\u001b[0;34m.\u001b[0m\u001b[0mround\u001b[0m\u001b[0;34m(\u001b[0m\u001b[0;36m1.22334\u001b[0m\u001b[0;34m)\u001b[0m\u001b[0;34m)\u001b[0m\u001b[0;34m\u001b[0m\u001b[0;34m\u001b[0m\u001b[0m\n\u001b[0m\u001b[1;32m      2\u001b[0m \u001b[0;31m# print(round(1.52334))\u001b[0m\u001b[0;34m\u001b[0m\u001b[0;34m\u001b[0m\u001b[0m\n",
            "\u001b[0;31mAttributeError\u001b[0m: module 'math' has no attribute 'round'"
          ]
        }
      ]
    },
    {
      "cell_type": "code",
      "source": [
        "# 2/0\n",
        "2/3"
      ],
      "metadata": {
        "colab": {
          "base_uri": "https://localhost:8080/"
        },
        "id": "vxF6rERTCbwq",
        "outputId": "01bacc2a-9281-4dd6-da03-3359eae1ade8"
      },
      "execution_count": null,
      "outputs": [
        {
          "output_type": "execute_result",
          "data": {
            "text/plain": [
              "0.6666666666666666"
            ]
          },
          "metadata": {},
          "execution_count": 24
        }
      ]
    },
    {
      "cell_type": "code",
      "source": [
        "print(hello, world)"
      ],
      "metadata": {
        "colab": {
          "base_uri": "https://localhost:8080/",
          "height": 145
        },
        "id": "6SyPcEsmClFO",
        "outputId": "8082ec43-b86c-4039-8e81-7f556101d5ec"
      },
      "execution_count": null,
      "outputs": [
        {
          "output_type": "error",
          "ename": "NameError",
          "evalue": "name 'hello' is not defined",
          "traceback": [
            "\u001b[0;31m---------------------------------------------------------------------------\u001b[0m",
            "\u001b[0;31mNameError\u001b[0m                                 Traceback (most recent call last)",
            "\u001b[0;32m<ipython-input-29-137915367199>\u001b[0m in \u001b[0;36m<cell line: 1>\u001b[0;34m()\u001b[0m\n\u001b[0;32m----> 1\u001b[0;31m \u001b[0mprint\u001b[0m\u001b[0;34m(\u001b[0m\u001b[0mhello\u001b[0m\u001b[0;34m,\u001b[0m \u001b[0mworld\u001b[0m\u001b[0;34m)\u001b[0m\u001b[0;34m\u001b[0m\u001b[0;34m\u001b[0m\u001b[0m\n\u001b[0m",
            "\u001b[0;31mNameError\u001b[0m: name 'hello' is not defined"
          ]
        }
      ]
    },
    {
      "cell_type": "markdown",
      "source": [
        "## Errros"
      ],
      "metadata": {
        "id": "t81TSGnWX6pY"
      }
    },
    {
      "cell_type": "markdown",
      "source": [
        "### Syntax Error"
      ],
      "metadata": {
        "id": "ST_XsZeoF5gS"
      }
    },
    {
      "cell_type": "code",
      "source": [
        "print(i am a student)"
      ],
      "metadata": {
        "id": "IdGDDg_wXYtr",
        "colab": {
          "base_uri": "https://localhost:8080/",
          "height": 109
        },
        "outputId": "f451775c-dacf-4739-a600-9a4d6e3beef5"
      },
      "execution_count": null,
      "outputs": [
        {
          "output_type": "error",
          "ename": "SyntaxError",
          "evalue": "invalid syntax. Perhaps you forgot a comma? (<ipython-input-30-924f08a9d875>, line 1)",
          "traceback": [
            "\u001b[0;36m  File \u001b[0;32m\"<ipython-input-30-924f08a9d875>\"\u001b[0;36m, line \u001b[0;32m1\u001b[0m\n\u001b[0;31m    print(i am a student)\u001b[0m\n\u001b[0m          ^\u001b[0m\n\u001b[0;31mSyntaxError\u001b[0m\u001b[0;31m:\u001b[0m invalid syntax. Perhaps you forgot a comma?\n"
          ]
        }
      ]
    },
    {
      "cell_type": "markdown",
      "source": [
        "### Runtime Error"
      ],
      "metadata": {
        "id": "r6tWWvX7GE2X"
      }
    },
    {
      "cell_type": "code",
      "source": [
        "print(2/1)\n",
        "print(2/0)\n",
        "\n",
        "# 5 = b"
      ],
      "metadata": {
        "id": "KBRHCb7GX5-N",
        "colab": {
          "base_uri": "https://localhost:8080/",
          "height": 217
        },
        "outputId": "f8c2ffe9-b5ca-436a-efb7-f66d8c754751"
      },
      "execution_count": null,
      "outputs": [
        {
          "output_type": "stream",
          "name": "stdout",
          "text": [
            "2.0\n"
          ]
        },
        {
          "output_type": "error",
          "ename": "ZeroDivisionError",
          "evalue": "division by zero",
          "traceback": [
            "\u001b[0;31m---------------------------------------------------------------------------\u001b[0m",
            "\u001b[0;31mZeroDivisionError\u001b[0m                         Traceback (most recent call last)",
            "\u001b[0;32m<ipython-input-32-05c382bab794>\u001b[0m in \u001b[0;36m<cell line: 2>\u001b[0;34m()\u001b[0m\n\u001b[1;32m      1\u001b[0m \u001b[0mprint\u001b[0m\u001b[0;34m(\u001b[0m\u001b[0;36m2\u001b[0m\u001b[0;34m/\u001b[0m\u001b[0;36m1\u001b[0m\u001b[0;34m)\u001b[0m\u001b[0;34m\u001b[0m\u001b[0;34m\u001b[0m\u001b[0m\n\u001b[0;32m----> 2\u001b[0;31m \u001b[0mprint\u001b[0m\u001b[0;34m(\u001b[0m\u001b[0;36m2\u001b[0m\u001b[0;34m/\u001b[0m\u001b[0;36m0\u001b[0m\u001b[0;34m)\u001b[0m\u001b[0;34m\u001b[0m\u001b[0;34m\u001b[0m\u001b[0m\n\u001b[0m\u001b[1;32m      3\u001b[0m \u001b[0;34m\u001b[0m\u001b[0m\n\u001b[1;32m      4\u001b[0m \u001b[0;31m# 5 = b\u001b[0m\u001b[0;34m\u001b[0m\u001b[0;34m\u001b[0m\u001b[0m\n",
            "\u001b[0;31mZeroDivisionError\u001b[0m: division by zero"
          ]
        }
      ]
    },
    {
      "cell_type": "markdown",
      "source": [
        "### Logical Error"
      ],
      "metadata": {
        "id": "tlNCu_KPGSB8"
      }
    },
    {
      "cell_type": "code",
      "source": [
        "a = 10\n",
        "b = 5\n",
        "if a != b:\n",
        "  print(\"a is equal b\")"
      ],
      "metadata": {
        "id": "u846hQKgYPJM",
        "colab": {
          "base_uri": "https://localhost:8080/"
        },
        "outputId": "517e2f3c-9700-4242-fd9b-9589afbae9a8"
      },
      "execution_count": null,
      "outputs": [
        {
          "output_type": "stream",
          "name": "stdout",
          "text": [
            "a is equal b\n"
          ]
        }
      ]
    },
    {
      "cell_type": "code",
      "source": [
        "#!/bin/python3\n",
        "\n",
        "import math\n",
        "import os\n",
        "import random\n",
        "import re\n",
        "import sys\n",
        "\n",
        "\n",
        "if __name__ == '__main__':\n",
        "    n = int(input().strip())\n",
        "    print(n)"
      ],
      "metadata": {
        "colab": {
          "base_uri": "https://localhost:8080/"
        },
        "id": "2sPckCxiHn8W",
        "outputId": "5bd59423-6219-4f45-91a8-4d182282edc8"
      },
      "execution_count": null,
      "outputs": [
        {
          "name": "stdout",
          "output_type": "stream",
          "text": [
            "Hello!\n",
            "456\n"
          ]
        }
      ]
    },
    {
      "cell_type": "markdown",
      "source": [
        "# Class_12"
      ],
      "metadata": {
        "id": "3OJ-bUI-PdkE"
      }
    },
    {
      "cell_type": "markdown",
      "source": [
        "\n",
        "\n",
        "*   Functions\n",
        "*   parameters, arguments, function calling\n",
        "*   function naming\n",
        "*   Solving a problem with function\n",
        "*   local & global var\n",
        "\n"
      ],
      "metadata": {
        "id": "z43kdgTxe_av"
      }
    },
    {
      "cell_type": "code",
      "execution_count": null,
      "metadata": {
        "id": "PUz7h9RcXYBV",
        "colab": {
          "base_uri": "https://localhost:8080/"
        },
        "outputId": "5a27b8ef-e9e2-4e83-9a56-79b2def2a836"
      },
      "outputs": [
        {
          "output_type": "stream",
          "name": "stdout",
          "text": [
            "5\n"
          ]
        }
      ],
      "source": [
        "a = 5.6\n",
        "a = int(a)\n",
        "print(a)"
      ]
    },
    {
      "cell_type": "code",
      "source": [
        "import math\n",
        "a = 5.6\n",
        "a = math.floor(a)\n",
        "print(a)"
      ],
      "metadata": {
        "colab": {
          "base_uri": "https://localhost:8080/"
        },
        "id": "C5VOyhqoJrH3",
        "outputId": "7885b537-1955-4f2c-8ae2-50b300d458ac"
      },
      "execution_count": null,
      "outputs": [
        {
          "output_type": "stream",
          "name": "stdout",
          "text": [
            "5\n"
          ]
        }
      ]
    },
    {
      "cell_type": "code",
      "source": [
        "def hello_to_the_user(student):\n",
        "  print(f\"hello {student}!\")"
      ],
      "metadata": {
        "id": "u-CLi0XiKAn5"
      },
      "execution_count": null,
      "outputs": []
    },
    {
      "cell_type": "code",
      "source": [
        "user = \"Abrar\"\n",
        "hello_to_the_user(user)\n",
        "user = \"Fahim\"\n",
        "hello_to_the_user(user)"
      ],
      "metadata": {
        "colab": {
          "base_uri": "https://localhost:8080/"
        },
        "id": "cvM52QlQKHQO",
        "outputId": "2dd9891b-a0a9-4e4e-8eba-70e24134b1a4"
      },
      "execution_count": null,
      "outputs": [
        {
          "output_type": "stream",
          "name": "stdout",
          "text": [
            "hello Abrar!\n",
            "hello Fahim!\n"
          ]
        }
      ]
    },
    {
      "cell_type": "code",
      "source": [
        "# Function definition\n",
        "def get_name(): #header\n",
        "  # body\n",
        "  # ...\n",
        "  return 'Kausar'"
      ],
      "metadata": {
        "id": "Rb_bPhqSfnfc"
      },
      "execution_count": null,
      "outputs": []
    },
    {
      "cell_type": "code",
      "source": [
        "# Function calling\n",
        "get_name()"
      ],
      "metadata": {
        "id": "7sgYT7J9gfG_",
        "colab": {
          "base_uri": "https://localhost:8080/",
          "height": 36
        },
        "outputId": "17f32670-c7d0-4393-f011-8dbda12519b0"
      },
      "execution_count": null,
      "outputs": [
        {
          "output_type": "execute_result",
          "data": {
            "text/plain": [
              "'Kausar'"
            ],
            "application/vnd.google.colaboratory.intrinsic+json": {
              "type": "string"
            }
          },
          "metadata": {},
          "execution_count": 47
        }
      ]
    },
    {
      "cell_type": "code",
      "source": [
        "def sum():\n",
        "  a = input(\"a: \")\n",
        "  b = input(\"b: \")\n",
        "  a = int(a)\n",
        "  b = int(b)\n",
        "  return a + b"
      ],
      "metadata": {
        "id": "UkVX5tPkVRg0"
      },
      "execution_count": null,
      "outputs": []
    },
    {
      "cell_type": "code",
      "source": [
        "def sum(a, b): # parameters\n",
        "  return int(a) + int(b)"
      ],
      "metadata": {
        "id": "II2KfOovXsxM"
      },
      "execution_count": null,
      "outputs": []
    },
    {
      "cell_type": "code",
      "source": [
        "a = input(\"a: \")\n",
        "b = input(\"b: \")\n",
        "\n",
        "result = sum(a, b) # arguments a,b\n",
        "# print(result)\n",
        "sum(a, b)\n",
        "sum(a, 2)\n",
        "sum(a, 5)"
      ],
      "metadata": {
        "colab": {
          "base_uri": "https://localhost:8080/"
        },
        "id": "ef0E66eETms4",
        "outputId": "f18cd434-bbac-4865-83e9-a0c1f616ecfa"
      },
      "execution_count": null,
      "outputs": [
        {
          "name": "stdout",
          "output_type": "stream",
          "text": [
            "a: 1000\n",
            "b: 200\n"
          ]
        },
        {
          "output_type": "execute_result",
          "data": {
            "text/plain": [
              "1005"
            ]
          },
          "metadata": {},
          "execution_count": 77
        }
      ]
    },
    {
      "cell_type": "code",
      "source": [
        "def dollar_conversion_in_tk(dollar_rate, amount_in_dollar):\n",
        "  return dollar_rate * amount_in_dollar"
      ],
      "metadata": {
        "id": "RyR9N3ZHZnDE"
      },
      "execution_count": null,
      "outputs": []
    },
    {
      "cell_type": "code",
      "source": [
        "d_r = 119.63\n",
        "dollar = float(input(\"How much dollar you wanna convert: \"))\n",
        "result = dollar_conversion_in_tk(d_r, dollar)\n",
        "print(result)"
      ],
      "metadata": {
        "colab": {
          "base_uri": "https://localhost:8080/"
        },
        "id": "AuNeFiQhZ-al",
        "outputId": "807d5878-57ad-41f2-f9fa-4025b1df7ab3"
      },
      "execution_count": null,
      "outputs": [
        {
          "output_type": "stream",
          "name": "stdout",
          "text": [
            "How much dollar you wanna convert: 120.20\n",
            "14379.526\n"
          ]
        }
      ]
    },
    {
      "cell_type": "code",
      "source": [
        "# def sum_of_2():\n",
        "#   a = input(\"a: \")\n",
        "#   return a + 2\n",
        "\n",
        "# def sum_of_5():\n",
        "#   a = input(\"a: \")\n",
        "#   return a + 5"
      ],
      "metadata": {
        "id": "YY4UHwBaYAks"
      },
      "execution_count": null,
      "outputs": []
    },
    {
      "cell_type": "code",
      "source": [
        "result = a+2\n",
        "result = a+5"
      ],
      "metadata": {
        "id": "KSKN_GDdXggX"
      },
      "execution_count": null,
      "outputs": []
    },
    {
      "cell_type": "code",
      "source": [
        "# parameters\n",
        "def sum(a,b):\n",
        "  return(a+b)"
      ],
      "metadata": {
        "id": "TZ_BIBq2hRnI"
      },
      "execution_count": null,
      "outputs": []
    },
    {
      "cell_type": "code",
      "source": [
        "def sum_of_three(a,b,c):\n",
        "  sum_of_two = sum(a,b)\n",
        "  sum_of_all = sum(sum_of_two, c)\n",
        "  return(sum_of_all)"
      ],
      "metadata": {
        "id": "y88ZEA03huHL"
      },
      "execution_count": null,
      "outputs": []
    },
    {
      "cell_type": "code",
      "source": [
        "# arguments\n",
        "total_sum = sum_of_three(5,100,-45)\n",
        "print(total_sum)"
      ],
      "metadata": {
        "id": "mZ4aH9wKhXSb"
      },
      "execution_count": null,
      "outputs": []
    },
    {
      "cell_type": "code",
      "source": [
        "return_val = sum(1,2)\n",
        "print('return_val', return_val)"
      ],
      "metadata": {
        "id": "xJZgKIpA0DCJ"
      },
      "execution_count": null,
      "outputs": []
    },
    {
      "cell_type": "markdown",
      "source": [
        "## Local & global variable"
      ],
      "metadata": {
        "id": "ohgZADLM22o9"
      }
    },
    {
      "cell_type": "code",
      "source": [
        "def sum(a,b):\n",
        "  c = a+b\n",
        "  # print(f\"c = {c}\")\n",
        "  return c"
      ],
      "metadata": {
        "id": "_XtBahMxgns7"
      },
      "execution_count": null,
      "outputs": []
    },
    {
      "cell_type": "code",
      "source": [
        "total = sum(1,2)\n",
        "# print(f\"c = {c}\")"
      ],
      "metadata": {
        "id": "hcUsLtdWztKB"
      },
      "execution_count": null,
      "outputs": []
    },
    {
      "cell_type": "code",
      "source": [
        "def sum_with_pi(a):\n",
        "  c = a+pi\n",
        "  print(f\"c = {c}\")"
      ],
      "metadata": {
        "id": "7BqNEwGd3Mzn"
      },
      "execution_count": null,
      "outputs": []
    },
    {
      "cell_type": "code",
      "source": [
        "pi = 3.1416\n",
        "sum_with_pi(100)"
      ],
      "metadata": {
        "id": "AIG48-zd3KjX"
      },
      "execution_count": null,
      "outputs": []
    },
    {
      "cell_type": "markdown",
      "source": [
        "## Function naming(same as var naming)"
      ],
      "metadata": {
        "id": "6lPvDGWlOl1p"
      }
    },
    {
      "cell_type": "code",
      "source": [
        "def sum():\n",
        "  return 0\n",
        "\n",
        "def sum 1():\n",
        "  return 0\n",
        "\n",
        "\n",
        "def 1sum():\n",
        "  return 0\n",
        "\n",
        "def sum123():\n",
        "  return 0\n",
        "\n"
      ],
      "metadata": {
        "id": "M0UFOlDy8pIm"
      },
      "execution_count": null,
      "outputs": []
    },
    {
      "cell_type": "markdown",
      "source": [
        "## keywords are not valid for any kinds of naming(var, fun...)\n",
        "**Keywords in Python include:** *False, True, None, and, as, assert, async, await, def, del, elif, else, break, class, continue, except, finally, for, from, global, if, import, in, is, lambda, nonlocal, not, or, pass, raise, return, try, while, with and yield.*"
      ],
      "metadata": {
        "id": "XvMhNjrv9N6S"
      }
    },
    {
      "cell_type": "code",
      "source": [
        "def True():\n",
        "  return 0"
      ],
      "metadata": {
        "id": "P1QGsmjC9F3z"
      },
      "execution_count": null,
      "outputs": []
    },
    {
      "cell_type": "markdown",
      "source": [
        "# Problem Statements"
      ],
      "metadata": {
        "id": "0nsuPAPtoiSp"
      }
    },
    {
      "cell_type": "markdown",
      "source": [
        "### Problem 01\n",
        "I will give you number and a range as inputs. You have to tell me if the number is in the range or not"
      ],
      "metadata": {
        "id": "SoQdimUoTJNu"
      }
    },
    {
      "cell_type": "markdown",
      "source": [
        "### Problem 02\n",
        "Calculate Average Age:\n",
        "Write a program that takes the ages of 3 people as input (all integers) and calculates their average age as a float. Ensure the program formats the result to two decimal places. For example, if the inputs are 25, 30, and 35, the output should be The average age is 30.00."
      ],
      "metadata": {
        "id": "mg_riKw0GJrp"
      }
    },
    {
      "cell_type": "markdown",
      "source": [
        "### Problem 03\n",
        "\n",
        "Print out the grade of a student achieved based on the following scale:\n",
        "\n",
        "*   A+ : 80 - 100\n",
        "*   A : 70 - 79\n",
        "*   A- : 60 - 69\n",
        "*   B : 50 - 59\n",
        "*   F : below 50\n",
        "\n",
        "Write a program that check user input, evaluates each student's mark against the grading scale, and prints a message indicating the grade obtained by each student."
      ],
      "metadata": {
        "id": "zYZ6up5FGiob"
      }
    },
    {
      "cell_type": "code",
      "source": [
        "marks = int(input(\"Input your course's mark:\"))\n",
        "\n",
        "if marks > 100 or marks < 0:\n",
        "  print(\"invalid\")\n",
        "elif marks >= 80:\n",
        "  print(\"A+\")\n",
        "elif marks >= 70:\n",
        "  print(\"A\")\n",
        "elif marks >= 60:\n",
        "  print(\"A-\")\n",
        "elif marks >= 50:\n",
        "  print(\"B\")\n",
        "else:\n",
        "  print(\"F\")"
      ],
      "metadata": {
        "id": "4y7AvTtWwZVv"
      },
      "execution_count": null,
      "outputs": []
    },
    {
      "cell_type": "markdown",
      "source": [
        "### Problem 04\n",
        "I will give you to two numbers and you have to swap the values assigned in the variable. Like: a=3, b=4. You will generate a=4,b=3"
      ],
      "metadata": {
        "id": "Tv2NQX8SYUg1"
      }
    },
    {
      "cell_type": "code",
      "source": [
        "a = 3\n",
        "b = 4\n",
        "temp = 'Why are you declaring me, bro!!! I do not have any work to do'\n",
        "temp = a\n",
        "a = b\n",
        "b = temp\n",
        "print(a,b)"
      ],
      "metadata": {
        "id": "Jl4TVJRIY7t-"
      },
      "execution_count": null,
      "outputs": []
    },
    {
      "cell_type": "markdown",
      "source": [
        "### Problem 05: Guess the number"
      ],
      "metadata": {
        "id": "1-nFXwPRQntO"
      }
    },
    {
      "cell_type": "markdown",
      "source": [
        "Store a random int value in a variable. Then ask the user to guess the number. Show proper message to the user if s/he has guessed the hidden number or not. If user will be able to give `exit` command to quit the game any-time."
      ],
      "metadata": {
        "id": "ML4iX-Q2Qsb1"
      }
    },
    {
      "cell_type": "code",
      "source": [
        "import random\n",
        "random_num = random.randint(0,10)\n",
        "print(random_num)"
      ],
      "metadata": {
        "id": "-h-BV2F1RUWd"
      },
      "execution_count": null,
      "outputs": []
    },
    {
      "cell_type": "code",
      "source": [
        "import random\n",
        "random_float = random.random()\n",
        "print(random_float)"
      ],
      "metadata": {
        "id": "yFChlBnARpqt"
      },
      "execution_count": null,
      "outputs": []
    },
    {
      "cell_type": "markdown",
      "source": [
        "## Problem 06: Unique list\n",
        "User will give you a list which may have duplicate items. You have to figure out the unique items from the list."
      ],
      "metadata": {
        "id": "sgSfBiZjTLqy"
      }
    },
    {
      "cell_type": "code",
      "source": [
        "#@title don't click\n",
        "user_list = [1,1,2]\n",
        "user_set = set(user_list)\n",
        "print(user_set)\n",
        "user_list = list(user_set)\n",
        "print(user_list)"
      ],
      "metadata": {
        "cellView": "form",
        "id": "cUk4HWWTTbFu"
      },
      "execution_count": null,
      "outputs": []
    },
    {
      "cell_type": "markdown",
      "source": [
        "## Problem 07: Area of circle\n",
        "Write a Python program to calculate the area of a circle using a function. The program should define a function named `calculate_area(radius)` that takes the radius of the circle as an input parameter. The function should return the computed area, using the formula\n",
        "Area\n",
        "=\n",
        "𝜋\n",
        "×\n",
        "radius\n",
        "^2,\n",
        "where\n",
        "𝜋\n",
        "π is approximately 3.14159. The program should prompt the user to input the radius and then display the calculated area."
      ],
      "metadata": {
        "id": "rnTRlJBccBUp"
      }
    },
    {
      "cell_type": "markdown",
      "source": [],
      "metadata": {
        "id": "kt_mk20OGZXL"
      }
    },
    {
      "cell_type": "markdown",
      "source": [
        "# Class_13\n"
      ],
      "metadata": {
        "id": "x5D2U4YODFl1"
      }
    },
    {
      "cell_type": "markdown",
      "source": [
        "Conducted By: \\\n",
        "Mehedi Hasan\\\n",
        "Software Engineer\\\n",
        "Vivasoft LTD\n"
      ],
      "metadata": {
        "id": "MYapG2KHDK3S"
      }
    },
    {
      "cell_type": "markdown",
      "metadata": {
        "id": "tWfH4yYPuMDW"
      },
      "source": [
        "## 1. Introduction to python Functions\n",
        "\n",
        "### What are Functions?\n",
        "Functions are reusable blocks of code designed to perform a specific task. They are fundamental to writing clean, organized, and efficient Python code.\n",
        "\n",
        "### Key Benefits of Functions\n",
        "- **Code Reusability**: Write code once, use it multiple times\n",
        "- **Modularity**: Break complex problems into smaller, manageable pieces\n",
        "- **Abstraction**: Hide complex implementation details\n",
        "- **Improved Readability**: Make code more structured and easier to understand\n",
        "\n",
        "### Basic Function Syntax\n"
      ]
    },
    {
      "cell_type": "code",
      "source": [
        "def function_name(parameters):\n",
        "    \"\"\"\n",
        "    Docstring: Describes what the function does\n",
        "\n",
        "    :param parameter_name: Description of the parameter\n",
        "    :return: Description of the return value\n",
        "    \"\"\"\n",
        "    # Function body: Code to be executed\n",
        "    return result  # Optional return statement"
      ],
      "metadata": {
        "id": "TXeQVeXqzCXQ"
      },
      "execution_count": null,
      "outputs": []
    },
    {
      "cell_type": "markdown",
      "metadata": {
        "id": "KHmuF1oAuMDd"
      },
      "source": [
        "## 2. Function Definition and Calling"
      ]
    },
    {
      "cell_type": "code",
      "source": [
        "# Function definition with docstring\n",
        "def hello():\n",
        "    return \"HELLO HELLO Ar kichu na Class Number 13 from C Buildind.\"\n",
        "\n",
        "# Function calls\n",
        "print(hello())"
      ],
      "metadata": {
        "colab": {
          "base_uri": "https://localhost:8080/"
        },
        "id": "f-WbI1fJwrGO",
        "outputId": "8b74b871-47cb-4bb6-b8e0-1ae6aa245cf8"
      },
      "execution_count": null,
      "outputs": [
        {
          "output_type": "stream",
          "name": "stdout",
          "text": [
            "HELLO HELLO Ar kichu na Class Number 13 from C Buildind.\n"
          ]
        }
      ]
    },
    {
      "cell_type": "code",
      "execution_count": null,
      "metadata": {
        "colab": {
          "base_uri": "https://localhost:8080/"
        },
        "id": "lxmBsYobuMDe",
        "outputId": "3d0abcb3-e960-4919-ce1a-086e72f034fe"
      },
      "source": [
        "\n",
        "def greet(greetee):\n",
        "    \"\"\"\n",
        "    Generate a personalized greeting message\n",
        "\n",
        "    :param name: Name of the person to greet\n",
        "    :type name: str\n",
        "    :return: Greeting message\n",
        "    :rtype: str\n",
        "    \"\"\"\n",
        "    return \"Assalmu Alaikum, {greetee}! Welcome to Python programming.\"\n",
        "\n",
        "# Function calls\n",
        "print(greet(\"Learners!\"))  # Calling the function with an argument\n",
        "print(greet(\"Abrar\"))\n",
        "print(greet(\"Tahmid\"))   # Can be called multiple times with different arguments"
      ],
      "outputs": [
        {
          "output_type": "stream",
          "name": "stdout",
          "text": [
            "Assalmu Alaikum, Learners!! Welcome to Python programming.\n",
            "Assalmu Alaikum, Abrar! Welcome to Python programming.\n",
            "Assalmu Alaikum, Tahmid! Welcome to Python programming.\n"
          ]
        }
      ]
    },
    {
      "cell_type": "markdown",
      "source": [
        "## **Task 0: Write your First function:**"
      ],
      "metadata": {
        "id": "0XmSi4mvwb4F"
      }
    },
    {
      "cell_type": "markdown",
      "metadata": {
        "id": "m2BN8E2BuMDg"
      },
      "source": [
        "## 3. Function Parameters\n",
        "\n"
      ]
    },
    {
      "cell_type": "markdown",
      "source": [
        "### 1. Positional Parameters:\n",
        "Arguments are matched to parameters in the order they are provided."
      ],
      "metadata": {
        "id": "lsTLE732vdB5"
      }
    },
    {
      "cell_type": "code",
      "source": [
        "def add_numbers(a, b):\n",
        "    \"\"\"\n",
        "    Add two numbers together\n",
        "\n",
        "    :param a: First number\n",
        "    :param b: Second number\n",
        "    :return: Sum of a and b\n",
        "    \"\"\"\n",
        "    return a + b\n",
        "\n",
        "# Calling with positional arguments\n",
        "result = add_numbers(5, 3)  # Arguments matched by position\n",
        "print(result)  # Output: 8"
      ],
      "metadata": {
        "colab": {
          "base_uri": "https://localhost:8080/"
        },
        "id": "-DQ5S9X_vhEk",
        "outputId": "6ec74590-2a09-4bea-b7a1-1335aceb2538"
      },
      "execution_count": null,
      "outputs": [
        {
          "output_type": "stream",
          "name": "stdout",
          "text": [
            "8\n"
          ]
        }
      ]
    },
    {
      "cell_type": "markdown",
      "source": [
        "**Task 1 Now write a Function For Division**\n",
        "hints: `return a/b`"
      ],
      "metadata": {
        "id": "ds4CF0F5vmc6"
      }
    },
    {
      "cell_type": "code",
      "source": [],
      "metadata": {
        "id": "rTYX3cCgaB-i"
      },
      "execution_count": null,
      "outputs": []
    },
    {
      "cell_type": "markdown",
      "source": [
        "### 2. Default Parameters:\n",
        "Parameters that have default values. If no value is provided during the function call, the default is used."
      ],
      "metadata": {
        "id": "vAQaMYlKwAgo"
      }
    },
    {
      "cell_type": "code",
      "execution_count": null,
      "metadata": {
        "id": "ujHxfz8TuMDh"
      },
      "source": [
        "def power(base, exponent=2):\n",
        "    \"\"\"\n",
        "    Calculate power of a number\n",
        "\n",
        "    :param base: Base number\n",
        "    :param exponent: Power to raise the base (default is 2 - square)\n",
        "    :return: Result of base raised to exponent\n",
        "    \"\"\"\n",
        "    return base ** exponent\n",
        "\n",
        "# Multiple ways to call\n",
        "print(power(4))      # Uses default exponent (4²)\n",
        "print(power(4, 3))   # Explicitly specifies exponent (4³)\n",
        "\n"
      ],
      "outputs": []
    },
    {
      "cell_type": "markdown",
      "source": [
        "## **Task 2 Now write a Function For Roll Counter**"
      ],
      "metadata": {
        "id": "HxSsZffRyN9r"
      }
    },
    {
      "cell_type": "markdown",
      "source": [
        "### 3. Keyword Arguments"
      ],
      "metadata": {
        "id": "TjpT4fTGxtn_"
      }
    },
    {
      "cell_type": "code",
      "source": [
        "\n",
        "def create_profile(name, age, city):\n",
        "    \"\"\"\n",
        "    Create a user profile\n",
        "\n",
        "    :param name: User's name\n",
        "    :param age: User's age\n",
        "    :param city: User's city\n",
        "    :return: Formatted profile information\n",
        "    \"\"\"\n",
        "    return f\"{name}, {age} years old, from {city}\"\n",
        "\n",
        "# Calling with keyword arguments (order doesn't matter)\n",
        "profile = create_profile(\n",
        "    name=\"Probesh\",\n",
        "    city=\"Sylhet\",\n",
        "    age=30\n",
        ")\n",
        "\n",
        "print(profile)"
      ],
      "metadata": {
        "id": "V24TiPLLxr4_",
        "colab": {
          "base_uri": "https://localhost:8080/"
        },
        "outputId": "c6668c21-4d61-4dc6-8627-ec4ede04163f"
      },
      "execution_count": null,
      "outputs": [
        {
          "output_type": "stream",
          "name": "stdout",
          "text": [
            "Probesh, 30 years old, from Sylhet\n"
          ]
        }
      ]
    },
    {
      "cell_type": "markdown",
      "source": [
        "## **Task 2 Create a Function For Area Measurement of Recangle**"
      ],
      "metadata": {
        "id": "AekIL2BIyY7F"
      }
    },
    {
      "cell_type": "markdown",
      "metadata": {
        "id": "2HMoC18muMDi"
      },
      "source": [
        "## 4. Function Scope\n",
        "\n",
        "### Understanding Variable Scope"
      ]
    },
    {
      "cell_type": "code",
      "execution_count": null,
      "metadata": {
        "colab": {
          "base_uri": "https://localhost:8080/",
          "height": 219
        },
        "id": "-Rn4zwGWuMDi",
        "outputId": "4b623989-851a-46fd-dfca-047ff36f6043"
      },
      "source": [
        "# Local Variables\n",
        "def calculate_total():\n",
        "    \"\"\"\n",
        "    Demonstrate local variable scope\n",
        "\n",
        "    Local variables are only accessible within the function\n",
        "    \"\"\"\n",
        "    x = 10  # Local variable\n",
        "    print(f\"Inside function: x = {x}\")\n",
        "\n",
        "calculate_total()\n",
        "print(x)  # This would raise a NameError\n",
        "\n"
      ],
      "outputs": [
        {
          "output_type": "stream",
          "name": "stdout",
          "text": [
            "Inside function: x = 10\n"
          ]
        },
        {
          "output_type": "error",
          "ename": "NameError",
          "evalue": "name 'x' is not defined",
          "traceback": [
            "\u001b[0;31m---------------------------------------------------------------------------\u001b[0m",
            "\u001b[0;31mNameError\u001b[0m                                 Traceback (most recent call last)",
            "\u001b[0;32m<ipython-input-9-96532694bde7>\u001b[0m in \u001b[0;36m<cell line: 12>\u001b[0;34m()\u001b[0m\n\u001b[1;32m     10\u001b[0m \u001b[0;34m\u001b[0m\u001b[0m\n\u001b[1;32m     11\u001b[0m \u001b[0mcalculate_total\u001b[0m\u001b[0;34m(\u001b[0m\u001b[0;34m)\u001b[0m\u001b[0;34m\u001b[0m\u001b[0;34m\u001b[0m\u001b[0m\n\u001b[0;32m---> 12\u001b[0;31m \u001b[0mprint\u001b[0m\u001b[0;34m(\u001b[0m\u001b[0mx\u001b[0m\u001b[0;34m)\u001b[0m  \u001b[0;31m# This would raise a NameError\u001b[0m\u001b[0;34m\u001b[0m\u001b[0;34m\u001b[0m\u001b[0m\n\u001b[0m\u001b[1;32m     13\u001b[0m \u001b[0;34m\u001b[0m\u001b[0m\n",
            "\u001b[0;31mNameError\u001b[0m: name 'x' is not defined"
          ]
        }
      ]
    },
    {
      "cell_type": "markdown",
      "source": [
        "\n",
        "### Global Variables"
      ],
      "metadata": {
        "id": "mtQ_pc6vzo1d"
      }
    },
    {
      "cell_type": "code",
      "source": [
        "# Global variable\n",
        "total_count = 0\n",
        "\n",
        "def increment_counter():\n",
        "    \"\"\"\n",
        "    Modify a global variable using the global keyword\n",
        "\n",
        "    :return: Updated global counter\n",
        "    \"\"\"\n",
        "    global total_count  # Declare intent to modify global variable\n",
        "    total_count += 1\n",
        "    return total_count\n",
        "\n",
        "print(increment_counter())  # 1\n",
        "print(increment_counter())  # 2\n",
        "print(total_count)          # 2"
      ],
      "metadata": {
        "id": "mWg2dgjdzi2Y"
      },
      "execution_count": null,
      "outputs": []
    },
    {
      "cell_type": "markdown",
      "metadata": {
        "id": "6Tp9viRHuMDj"
      },
      "source": [
        "## 5. Return Values\n",
        "\n",
        "### Different Return Scenarios"
      ]
    },
    {
      "cell_type": "code",
      "execution_count": null,
      "metadata": {
        "id": "ILSkS857uMDj"
      },
      "source": [
        "def multiple_returns(x):\n",
        "    \"\"\"\n",
        "    Demonstrate multiple return scenarios\n",
        "\n",
        "    :param x: Input number\n",
        "    :return: Multiple return values\n",
        "    \"\"\"\n",
        "    # Single value return\n",
        "    squared = x ** 2\n",
        "\n",
        "    # Multiple value return\n",
        "    return squared, x, x + 10\n",
        "\n",
        "# Unpacking return values\n",
        "result, original, added = multiple_returns(5)\n",
        "print(result)   # 25\n",
        "print(original) # 5\n",
        "print(added)    # 15"
      ],
      "outputs": []
    },
    {
      "cell_type": "markdown",
      "metadata": {
        "id": "WJFm0dWjuMDk"
      },
      "source": [
        "## 6. Inner Functions (Nested Functions)"
      ]
    },
    {
      "cell_type": "code",
      "execution_count": null,
      "metadata": {
        "id": "1VUVXhEruMDl"
      },
      "source": [
        "def outer_function(x):\n",
        "    \"\"\"\n",
        "    Demonstrate inner (nested) function\n",
        "\n",
        "    Inner functions are local to the outer function\n",
        "    \"\"\"\n",
        "    def inner_function(y):\n",
        "        \"\"\"A function defined inside another function\"\"\"\n",
        "        return x + y\n",
        "\n",
        "    # Return the inner function\n",
        "    return inner_function(10)\n",
        "\n",
        "result = outer_function(5)\n",
        "print(result)  # 15"
      ],
      "outputs": []
    },
    {
      "cell_type": "markdown",
      "metadata": {
        "id": "5gUbkOC4uMDl"
      },
      "source": [
        "## 7. Lambda Functions (Anonymous Functions)"
      ]
    },
    {
      "cell_type": "code",
      "execution_count": null,
      "metadata": {
        "id": "uMG8y9VtuMDm"
      },
      "source": [
        "# Traditional function\n",
        "def add(x, y):\n",
        "    return x + y\n",
        "\n",
        "# Equivalent lambda function\n",
        "add_lambda = lambda x, y: x + y\n",
        "\n",
        "# Using lambda in functional programming\n",
        "numbers = [1, 2, 3, 4, 5]\n",
        "squared = list(map(lambda x: x**2, numbers))\n",
        "print(squared)  # [1, 4, 9, 16, 25]"
      ],
      "outputs": []
    },
    {
      "cell_type": "markdown",
      "metadata": {
        "id": "w6bgLgejuMDn"
      },
      "source": [
        "## 9. Best Practices\n",
        "\n",
        "1. **Use Descriptive Names**: Choose clear, meaningful function names\n",
        "2. **Write Docstrings**: Explain purpose, parameters, and return values\n",
        "3. **Keep Functions Small**: Each function should do one thing well\n",
        "4. **Avoid Side Effects**: Prefer pure functions that return values\n",
        "5. **Use Type Hints**: Improve code readability and catch potential errors"
      ]
    },
    {
      "cell_type": "markdown",
      "source": [
        "\n",
        "### Home Tasks  \n",
        "\n",
        "1. **Print the Multiplication of Two Numbers**  \n",
        "   Write a program that takes two numbers as input and prints their Multiplication.\n",
        "\n",
        "2. **Check if a Number is Even or Odd**  \n",
        "   Write a program to check whether a given number is even or odd.\n",
        "\n",
        "3. **Create a Simple Calculator**  \n",
        "   Write a program that performs addition, subtraction, multiplication, or division based on the user’s choice.\n",
        "\n",
        "4. **Find the Largest Number**  \n",
        "   Write a program to find the largest of 2 numbers.\n"
      ],
      "metadata": {
        "id": "e5WK_88O0OJ7"
      }
    },
    {
      "cell_type": "markdown",
      "source": [
        "## File Handling\n",
        "\n",
        "### Basic File Operations\n",
        "File handling in Python allows you to open, read, write, and manage files."
      ],
      "metadata": {
        "id": "_uBHJvum-0Bp"
      }
    },
    {
      "cell_type": "code",
      "source": [
        "# Writing to a file\n",
        "with open(\"example.txt\", \"w\") as file:\n",
        "    file.write(\"Hello, File Handlingdsddsds yrtdftvtfvtrf!\")\n",
        "\n",
        "# Reading from a file\n",
        "with open(\"example.txt\", \"w\") as file:\n",
        "    content = file.read()\n",
        "    print(content)  # Output: Hello, File Handling!"
      ],
      "metadata": {
        "id": "6Op5-6gE-zsI",
        "colab": {
          "base_uri": "https://localhost:8080/",
          "height": 200
        },
        "outputId": "aefb07fa-6650-46cb-9d5c-9d6d8ad974a9"
      },
      "execution_count": null,
      "outputs": [
        {
          "output_type": "error",
          "ename": "UnsupportedOperation",
          "evalue": "not readable",
          "traceback": [
            "\u001b[0;31m---------------------------------------------------------------------------\u001b[0m",
            "\u001b[0;31mUnsupportedOperation\u001b[0m                      Traceback (most recent call last)",
            "\u001b[0;32m<ipython-input-17-1065cfb4bb33>\u001b[0m in \u001b[0;36m<cell line: 6>\u001b[0;34m()\u001b[0m\n\u001b[1;32m      5\u001b[0m \u001b[0;31m# Reading from a file\u001b[0m\u001b[0;34m\u001b[0m\u001b[0;34m\u001b[0m\u001b[0m\n\u001b[1;32m      6\u001b[0m \u001b[0;32mwith\u001b[0m \u001b[0mopen\u001b[0m\u001b[0;34m(\u001b[0m\u001b[0;34m\"example.txt\"\u001b[0m\u001b[0;34m,\u001b[0m \u001b[0;34m\"w\"\u001b[0m\u001b[0;34m)\u001b[0m \u001b[0;32mas\u001b[0m \u001b[0mfile\u001b[0m\u001b[0;34m:\u001b[0m\u001b[0;34m\u001b[0m\u001b[0;34m\u001b[0m\u001b[0m\n\u001b[0;32m----> 7\u001b[0;31m     \u001b[0mcontent\u001b[0m \u001b[0;34m=\u001b[0m \u001b[0mfile\u001b[0m\u001b[0;34m.\u001b[0m\u001b[0mread\u001b[0m\u001b[0;34m(\u001b[0m\u001b[0;34m)\u001b[0m\u001b[0;34m\u001b[0m\u001b[0;34m\u001b[0m\u001b[0m\n\u001b[0m\u001b[1;32m      8\u001b[0m     \u001b[0mprint\u001b[0m\u001b[0;34m(\u001b[0m\u001b[0mcontent\u001b[0m\u001b[0;34m)\u001b[0m  \u001b[0;31m# Output: Hello, File Handling!\u001b[0m\u001b[0;34m\u001b[0m\u001b[0;34m\u001b[0m\u001b[0m\n",
            "\u001b[0;31mUnsupportedOperation\u001b[0m: not readable"
          ]
        }
      ]
    },
    {
      "cell_type": "markdown",
      "source": [
        "### Renaming and Deleting Files\n",
        "\n",
        "The `os` module provides methods for renaming and deleting files."
      ],
      "metadata": {
        "id": "wtQkQT5m-zdx"
      }
    },
    {
      "cell_type": "code",
      "source": [
        "import os\n",
        "\n",
        "# Renaming a file\n",
        "#os.rename(\"python.txt\", \"python1.txt\")\n",
        "\n",
        "# Deleting a file\n",
        "os.remove(\"python1.txt\")"
      ],
      "metadata": {
        "id": "aFu1vTi4_TmF"
      },
      "execution_count": null,
      "outputs": []
    },
    {
      "cell_type": "markdown",
      "source": [
        "### Accessing Directories\n",
        "\n",
        "You can create, delete, and navigate directories using the `os` module."
      ],
      "metadata": {
        "id": "XApHszoa_W6H"
      }
    },
    {
      "cell_type": "code",
      "source": [
        "import os\n",
        "\n",
        "# Create a new directory\n",
        "\n",
        "# Delete the directory\n",
        "#os.chdir(\"..\")\n",
        "os.rmdir(\"new_directory\")"
      ],
      "metadata": {
        "id": "MeNr0gnu_b95"
      },
      "execution_count": null,
      "outputs": []
    },
    {
      "cell_type": "markdown",
      "source": [
        "### File Methods\n",
        "\n",
        "Python files support various methods like `read()`, `write()`, and `seek()` for file operations."
      ],
      "metadata": {
        "id": "VMqG3vpY_hId"
      }
    },
    {
      "cell_type": "code",
      "source": [
        "with open(\"example.txt\", \"w+\") as file:\n",
        "    file.write(\"Hello, World!\")\n",
        "    file.seek(2)\n",
        "    print(file.read())  # Output: Hello, World!"
      ],
      "metadata": {
        "id": "apTJ0JuX_jaN"
      },
      "execution_count": null,
      "outputs": []
    },
    {
      "cell_type": "markdown",
      "source": [
        "### OS File/Directory Methods\n",
        "\n",
        "The `os` module also provides advanced methods for file and directory handling."
      ],
      "metadata": {
        "id": "Cfz8TF6m_pu7"
      }
    },
    {
      "cell_type": "code",
      "source": [
        "os.mkdir(\"folder1\")\n",
        "with open(\"folder1/tex1.txt\", \"w\") as file:\n",
        "  file.write(\"Test 1 2 3\")"
      ],
      "metadata": {
        "id": "KG7YDQ8LN9qd"
      },
      "execution_count": null,
      "outputs": []
    },
    {
      "cell_type": "code",
      "source": [
        "os.getcwd()"
      ],
      "metadata": {
        "id": "RiUFyZCSPCy8"
      },
      "execution_count": null,
      "outputs": []
    },
    {
      "cell_type": "code",
      "source": [
        "os.path.getsize(\"example.txt\")"
      ],
      "metadata": {
        "id": "-BKambSbO84L"
      },
      "execution_count": null,
      "outputs": []
    },
    {
      "cell_type": "code",
      "source": [
        "import os\n",
        "\n",
        "# List all files in the current directory\n",
        "print(os.listdir(\".\"))\n",
        "\n",
        "# Check if a file exists\n",
        "print(os.path.exists(\"example.txt\"))\n",
        "\n",
        "# Get file size\n",
        "print(os.path.getsize(\"example.txt\"))"
      ],
      "metadata": {
        "id": "nnx_EMTb_wZJ"
      },
      "execution_count": null,
      "outputs": []
    },
    {
      "cell_type": "markdown",
      "source": [
        "### Exercise\n",
        "\n",
        "Write a program that:\n",
        "1. Creates a directory called \"test_dir\".\n",
        "2. Creates a file inside it called \"test_file.txt\" and writes \"Hello, Python!\" into it.\n",
        "3. Reads the content back and prints it.\n",
        "4. Deletes the file and directory."
      ],
      "metadata": {
        "id": "u1eIOuKE_3tq"
      }
    },
    {
      "cell_type": "code",
      "source": [
        "# Your code here"
      ],
      "metadata": {
        "id": "Mty22eTw_6v_"
      },
      "execution_count": null,
      "outputs": []
    },
    {
      "cell_type": "markdown",
      "source": [
        "# Class 14"
      ],
      "metadata": {
        "id": "xRPJ92drEO0L"
      }
    },
    {
      "cell_type": "markdown",
      "source": [
        "Agenda:\n",
        "\n",
        "*   Recap of File Handling and Function\n",
        "*   Regular Expression\n",
        "*   Error Handling\n",
        "*   Github\n",
        "*   Learners Feedback\n",
        "\n"
      ],
      "metadata": {
        "id": "qb5S3E_AEULZ"
      }
    },
    {
      "cell_type": "markdown",
      "source": [],
      "metadata": {
        "id": "4I_9XPaWI0mc"
      }
    },
    {
      "cell_type": "markdown",
      "source": [
        "RegEx(Regular Expression)\n",
        "\n",
        "---\n",
        "A RegEx, or Regular Expression, is a sequence of characters that forms a search pattern.\n",
        "\n",
        "RegEx can be used to check if a string contains the specified search pattern.\n",
        "\n",
        "Python has a built-in package called `re`, which can be used to work with Regular Expressions."
      ],
      "metadata": {
        "id": "VlzlZrEbmyV7"
      }
    },
    {
      "cell_type": "markdown",
      "source": [
        "**Definition:** Regular Expressions are sequences of characters defining a search pattern.\n",
        "\n",
        "**When to Use Regex:**\n",
        "- Searching for patterns in text (e.g., finding keywords).\n",
        "- Validating input formats (e.g., email, phone numbers).\n",
        "- Extracting or replacing specific parts of a string.\n"
      ],
      "metadata": {
        "id": "i21UBv9YOkYb"
      }
    },
    {
      "cell_type": "code",
      "source": [
        "import re\n",
        "\n",
        "where_am_i = \"I am from Dhaka, Bangladesh\"\n",
        "where_is_Farid = \"I am from Khulna, Bangladesh\"\n",
        "\n",
        "place = r\"Sylhet\"\n",
        "\n",
        "if re.search(place, where_is_Farid):\n",
        "  print(\"He is from Sylhet\")\n",
        "else:\n",
        "  print(\"He is from anywhere else\")"
      ],
      "metadata": {
        "id": "35VCNYUJmnfZ",
        "colab": {
          "base_uri": "https://localhost:8080/"
        },
        "outputId": "0c19d231-c69f-4038-dc90-58a34292f536"
      },
      "execution_count": null,
      "outputs": [
        {
          "output_type": "stream",
          "name": "stdout",
          "text": [
            "He is from anywhere else\n"
          ]
        }
      ]
    },
    {
      "cell_type": "markdown",
      "source": [
        "\n",
        "#### **Symbols and Patterns**  \n",
        "| Symbol         | Meaning                                   | Example                  | Result                            |\n",
        "|----------------|-------------------------------------------|--------------------------|-----------------------------------|\n",
        "| `.`            | Matches any character (except newline)    | `r\"a.b\"` on `\"acb, adb\"` | Matches `\"acb\", \"adb\"`           |\n",
        "| `^`            | Start of string                          | `r\"^Hello\"`             | Matches `\"Hello world\"`          |\n",
        "| `$`            | End of string                            | `r\"world$\"`             | Matches `\"Hello world\"`          |\n",
        "| `[]`           | Character set                            | `r\"[aeiou]\"`            | Matches any vowel                |\n",
        "| `\\d`           | Any digit (0-9)                          | `r\"\\d\"`                 | Matches `\"123\"` in `\"abc123\"`    |\n",
        "| `\\w`           | Any word character (a-z, 0-9, _)         | `r\"\\w\"`                 | Matches `\"a1_\" in `\"!a1_b\"`      |\n",
        "| `\\s`           | Any whitespace character                 | `r\"\\s\"`                 | Matches `\" \"` in `\"a b\"`         |\n",
        "\n",
        "---\n",
        "\n",
        "#### **Illustration:**  \n",
        "\n",
        "**Match a Phone Number Format**  \n",
        "\n",
        "\n",
        "**Quick Exercise:**  \n",
        "- Write a regex to match a 5-digit zip code.  \n",
        "- Example: `\"90210\"` should match.  \n",
        "\n",
        "---\n",
        "\n",
        "#### **Quantifiers**  \n",
        "| Symbol    | Meaning                 | Example              | Result                          |\n",
        "|-----------|-------------------------|----------------------|---------------------------------|\n",
        "| `*`       | 0 or more occurrences   | `r\"ab*c\"` on `\"ac\"`  | Matches `\"ac\", \"abc\", \"abbc\"`  |\n",
        "| `+`       | 1 or more occurrences   | `r\"ab+c\"` on `\"ac\"`  | Matches `\"abc\", \"abbc\"`        |\n",
        "| `?`       | 0 or 1 occurrence       | `r\"ab?c\"` on `\"abc\"` | Matches `\"ac\", \"abc\"`          |\n",
        "| `{n,m}`   | Between n and m times   | `r\"a{1,3}\"`          | Matches `\"a\", \"aa\", \"aaa\"`     |\n",
        "\n",
        "#### **Illustration:**  \n",
        "**Extract Repeated Patterns**  \n",
        "\n",
        "\n",
        "**Quick Exercise:**  \n",
        "- Find all words with exactly 4 letters in `\"This is a test of regex.\"`.  \n",
        "\n",
        "---\n",
        "\n",
        "### **3. Anchors and Boundaries**  \n",
        "\n",
        "#### **Key Patterns**  \n",
        "| Pattern     | Meaning                                   | Example                 | Result                     |\n",
        "|-------------|-------------------------------------------|-------------------------|---------------------------|\n",
        "| `^`         | Start of string                          | `r\"^Hello\"`            | Matches `\"Hello there\"`   |\n",
        "| `$`         | End of string                            | `r\"world$\"`            | Matches `\"Hello world\"`   |\n",
        "| `\\b`        | Word boundary                            | `r\"\\bword\\b\"`          | Matches `\"word\" in text`  |\n",
        "| `\\B`        | Non-word boundary                        | `r\"\\Bword\"`            | Matches part of `\"password\"` |\n",
        "\n",
        "#### **Illustration:**  \n",
        "**Match Words at the Start of a Sentence**  \n",
        "\n",
        "**Quick Exercise:**  \n",
        "- Write a regex to find all words ending in `\"ing\"` in `\"I am singing while running.\"`.  \n",
        "\n",
        "---\n",
        "\n",
        "### **4. Real-Life Scenarios and Mini-Exercises**  \n",
        "#### **Scenario 1: Validate User Input**  \n",
        "- **Problem:** Check if an email is valid.  \n",
        "- **Regex:** `r\"^[\\w\\.-]+@[\\w\\.-]+\\.\\w+$\"`  \n",
        "\n",
        "**Quick Exercise:**  \n",
        "- Write a regex to validate a password with at least one uppercase letter, one digit, and one special character.  \n",
        "\n",
        "---\n",
        "\n",
        "#### **Scenario 2: Search and Replace**  \n",
        "- **Problem:** Replace all occurrences of `\"2023\"` with `\"2024\"`.  \n",
        "```python\n",
        "text = \"Happy New Year 2023!\"\n",
        "```\n",
        "\n",
        "---"
      ],
      "metadata": {
        "id": "jGKrWB9nO_Am"
      }
    },
    {
      "cell_type": "markdown",
      "source": [
        "The regular expression `r\"^[\\w\\.-]+@[\\w\\.-]+\\.\\w+$\"` is used to validate email addresses. Here's a breakdown of its components:\n",
        "\n",
        "### Components of the Regex:\n",
        "1. **`^`**:\n",
        "   - Ensures the match starts at the beginning of the string.\n",
        "\n",
        "2. **`[\\w\\.-]+`**:\n",
        "   - Matches one or more word characters (`\\w`), dots (`.`), or hyphens (`-`).\n",
        "   - This represents the local part of the email (before the `@`).\n",
        "\n",
        "3. **`@`**:\n",
        "   - Matches the `@` symbol, separating the local part and the domain.\n",
        "\n",
        "4. **`[\\w\\.-]+`**:\n",
        "   - Matches one or more word characters, dots, or hyphens again, representing the domain name.\n",
        "\n",
        "5. **`\\.`**:\n",
        "   - Matches a literal dot (`.`), required before the top-level domain.\n",
        "\n",
        "6. **`\\w+`**:\n",
        "   - Matches one or more word characters for the top-level domain (e.g., `com`, `org`, `net`).\n",
        "\n",
        "7. **`$`**:\n",
        "   - Ensures the match ends at the end of the string.\n",
        "\n",
        "---\n",
        "\n",
        "### Example Matches:\n",
        "This regex will match:\n",
        "- `example@example.com`\n",
        "- `user.name@sub-domain.org`\n",
        "- `my-email@domain.co.uk`\n",
        "\n",
        "But it will **not match** invalid email addresses like:\n",
        "- `example@.com` (missing domain name)\n",
        "- `@example.com` (missing local part)\n",
        "- `example@domain` (missing top-level domain)\n",
        "\n"
      ],
      "metadata": {
        "id": "BH3VZFqJKHji"
      }
    },
    {
      "cell_type": "code",
      "source": [
        "txt = \"Hello  fun  World\"\n",
        "\n",
        "start_pattern = r\"^Hello\"\n",
        "end_pattern = r\"World$\"\n",
        "\n",
        "start_end_pattern = r\"^Hello.*World$\"\n",
        "\n",
        "if re.search(start_end_pattern, txt):\n",
        "  print(\"He is saying hello to the world!!!!!!\")\n",
        "else:\n",
        "  print(\"OOh!!! He is rude\")"
      ],
      "metadata": {
        "colab": {
          "base_uri": "https://localhost:8080/"
        },
        "id": "e-bRz57UaiTI",
        "outputId": "f35aa12c-ecb8-43f7-8a45-efdeaf369bb1"
      },
      "execution_count": null,
      "outputs": [
        {
          "output_type": "stream",
          "name": "stdout",
          "text": [
            "He is saying hello to the world!!!!!!\n"
          ]
        }
      ]
    },
    {
      "cell_type": "markdown",
      "source": [],
      "metadata": {
        "id": "ooNBVGypKVPq"
      }
    },
    {
      "cell_type": "code",
      "source": [
        "#Check if there is vowel in a txt\n",
        "text = \"Btfleeereeeeeeee\"\n",
        "pattern = r\"e{1,2}\"\n",
        "\n",
        "if re.search(pattern, text):\n",
        "  print(\"Has vowel 0/1 times!!!!!!\")\n",
        "else:\n",
        "  print(\"OOh!!! He has not\")"
      ],
      "metadata": {
        "colab": {
          "base_uri": "https://localhost:8080/"
        },
        "id": "-nING4Sfl7Ty",
        "outputId": "fb50c816-acb1-47cb-d8e2-95d139e6ec9e"
      },
      "execution_count": null,
      "outputs": [
        {
          "output_type": "stream",
          "name": "stdout",
          "text": [
            "Has vowel 0/1 times!!!!!!\n"
          ]
        }
      ]
    },
    {
      "cell_type": "code",
      "source": [
        "# Find all words with exactly 4 letters in \"This is a test of regex.\".\n",
        "text = \"This is a test of regex.\"\n",
        "pattern = r\"\\w{4}\"\n",
        "\n",
        "matched = re.findall(pattern, text)\n",
        "print(matched)"
      ],
      "metadata": {
        "colab": {
          "base_uri": "https://localhost:8080/"
        },
        "id": "5mNaqg-amjGx",
        "outputId": "2c028987-b5ff-4bbe-ea68-8c6cca1c0a46"
      },
      "execution_count": null,
      "outputs": [
        {
          "output_type": "stream",
          "name": "stdout",
          "text": [
            "['This', 'test', 'rege']\n"
          ]
        }
      ]
    },
    {
      "cell_type": "code",
      "source": [
        "# Split\n",
        "text = \"add: 12/1 North housing\"\n",
        "pattern = r\"add:\"\n",
        "\n",
        "matched = re.split(pattern, text)\n",
        "print(matched)"
      ],
      "metadata": {
        "colab": {
          "base_uri": "https://localhost:8080/"
        },
        "id": "SiDMAMtxpH1-",
        "outputId": "9ef23f2d-60c8-4284-922b-08a15d7fd469"
      },
      "execution_count": null,
      "outputs": [
        {
          "output_type": "stream",
          "name": "stdout",
          "text": [
            "['', ' 12/1 North housing']\n"
          ]
        }
      ]
    },
    {
      "cell_type": "code",
      "source": [
        "# Substituition\n",
        "text = \"add: 12/1 North housing\"\n",
        "pattern = r\"add:\"\n",
        "correct_pattern = \"Address:\"\n",
        "\n",
        "matched = re.sub(pattern, correct_pattern,text)\n",
        "print(matched)"
      ],
      "metadata": {
        "colab": {
          "base_uri": "https://localhost:8080/"
        },
        "id": "ZEr01ZlXpZeE",
        "outputId": "6ca1c653-c2f2-41a9-cb48-45b1e508696b"
      },
      "execution_count": null,
      "outputs": [
        {
          "output_type": "stream",
          "name": "stdout",
          "text": [
            "Address: 12/1 North housing\n"
          ]
        }
      ]
    },
    {
      "cell_type": "markdown",
      "source": [],
      "metadata": {
        "id": "mYaURRpgLTJv"
      }
    },
    {
      "cell_type": "markdown",
      "source": [
        "## Exception Handling in Python\n",
        "Exception handling in Python is a mechanism to handle runtime errors and exceptions gracefully, without crashing the program. This is achieved using the try, except, else, and finally blocks."
      ],
      "metadata": {
        "id": "GAqC1FOBOBVM"
      }
    },
    {
      "cell_type": "markdown",
      "source": [
        "An exception is an event that occurs during the execution of a program that disrupts its normal flow. Examples include:\n",
        "\n",
        "1. Division by zero (ZeroDivisionError)\n",
        "2. File not found (FileNotFoundError)\n",
        "3. Invalid syntax (SyntaxError)"
      ],
      "metadata": {
        "id": "S53cc7UUOLgR"
      }
    },
    {
      "cell_type": "markdown",
      "source": [],
      "metadata": {
        "id": "cl-TCRwoLoyt"
      }
    },
    {
      "cell_type": "markdown",
      "source": [
        "### Exception handling"
      ],
      "metadata": {
        "id": "MnxlRW-FkCJH"
      }
    },
    {
      "cell_type": "code",
      "source": [
        "a = int(input(\"Enter the numerator:\"))\n",
        "b = int(input(\"Enter the denominator:\"))\n",
        "\n",
        "try:\n",
        "  dividend = a/b\n",
        "  print(dividend)\n",
        "except:\n",
        "  print(\"Denomenetor can't be zero\")"
      ],
      "metadata": {
        "id": "eIsCln7JnX1W"
      },
      "execution_count": null,
      "outputs": []
    },
    {
      "cell_type": "code",
      "source": [
        "try:\n",
        "  a = int(input(\"Enter the numerator:\"))\n",
        "  b = int(input(\"Enter the denominator:\"))\n",
        "  dividend = a/b\n",
        "  print(dividend)\n",
        "except ZeroDivisionError:\n",
        "  print(\"Denomenetor can't be zero\")\n",
        "except:\n",
        "  print(\"Please enter some real numbers\")"
      ],
      "metadata": {
        "colab": {
          "base_uri": "https://localhost:8080/"
        },
        "id": "i_V2aEXjkJ5p",
        "outputId": "a62f19c6-32a9-40ee-8b30-a622ec782339"
      },
      "execution_count": null,
      "outputs": [
        {
          "output_type": "stream",
          "name": "stdout",
          "text": [
            "Enter the numerator:a\n",
            "Please enter some real numbers\n"
          ]
        }
      ]
    },
    {
      "cell_type": "code",
      "source": [
        "list_a = list(map(int, input(\"Enter 5 numbers:\").split()))\n",
        "dividend = sum(list_a)/list_a[4]"
      ],
      "metadata": {
        "colab": {
          "base_uri": "https://localhost:8080/",
          "height": 176
        },
        "id": "rz2FgiKBodqz",
        "outputId": "4ebd41e7-55ee-47f9-9e21-efcfc0fed267"
      },
      "execution_count": null,
      "outputs": [
        {
          "name": "stdout",
          "output_type": "stream",
          "text": [
            "Enter 5 numbers:1 2 3\n"
          ]
        },
        {
          "output_type": "error",
          "ename": "IndexError",
          "evalue": "list index out of range",
          "traceback": [
            "\u001b[0;31m---------------------------------------------------------------------------\u001b[0m",
            "\u001b[0;31mIndexError\u001b[0m                                Traceback (most recent call last)",
            "\u001b[0;32m<ipython-input-70-d4da8351b203>\u001b[0m in \u001b[0;36m<cell line: 2>\u001b[0;34m()\u001b[0m\n\u001b[1;32m      1\u001b[0m \u001b[0mlist_a\u001b[0m \u001b[0;34m=\u001b[0m \u001b[0mlist\u001b[0m\u001b[0;34m(\u001b[0m\u001b[0mmap\u001b[0m\u001b[0;34m(\u001b[0m\u001b[0mint\u001b[0m\u001b[0;34m,\u001b[0m \u001b[0minput\u001b[0m\u001b[0;34m(\u001b[0m\u001b[0;34m\"Enter 5 numbers:\"\u001b[0m\u001b[0;34m)\u001b[0m\u001b[0;34m.\u001b[0m\u001b[0msplit\u001b[0m\u001b[0;34m(\u001b[0m\u001b[0;34m)\u001b[0m\u001b[0;34m)\u001b[0m\u001b[0;34m)\u001b[0m\u001b[0;34m\u001b[0m\u001b[0;34m\u001b[0m\u001b[0m\n\u001b[0;32m----> 2\u001b[0;31m \u001b[0mdividend\u001b[0m \u001b[0;34m=\u001b[0m \u001b[0msum\u001b[0m\u001b[0;34m(\u001b[0m\u001b[0mlist_a\u001b[0m\u001b[0;34m)\u001b[0m\u001b[0;34m/\u001b[0m\u001b[0mlist_a\u001b[0m\u001b[0;34m[\u001b[0m\u001b[0;36m4\u001b[0m\u001b[0;34m]\u001b[0m\u001b[0;34m\u001b[0m\u001b[0;34m\u001b[0m\u001b[0m\n\u001b[0m",
            "\u001b[0;31mIndexError\u001b[0m: list index out of range"
          ]
        }
      ]
    },
    {
      "cell_type": "code",
      "source": [
        "try:\n",
        "  list_a = list(map(int, input(\"Enter 5 numbers:\").split()))\n",
        "  # print(\"The last element from list:\", list_a[4])\n",
        "  dividend = sum(list_a)/list_a[4]\n",
        "\n",
        "except ZeroDivisionError:\n",
        "  print(\"Denomenetor can't be zero\")\n",
        "except IndexError:\n",
        "  print(\"Please enter five numbers!\")\n",
        "except:\n",
        "  print(\"Please enter some real numbers\")"
      ],
      "metadata": {
        "colab": {
          "base_uri": "https://localhost:8080/"
        },
        "id": "ENrvp2Tgndss",
        "outputId": "482dde3b-4147-4fbe-f8b6-3c4de60203cc"
      },
      "execution_count": null,
      "outputs": [
        {
          "output_type": "stream",
          "name": "stdout",
          "text": [
            "Enter 5 numbers:1 2 3\n",
            "Index out of range\n"
          ]
        }
      ]
    },
    {
      "cell_type": "code",
      "source": [
        "try:\n",
        "  list_a = list(map(int, input(\"Enter 5 numbers:\").split()))\n",
        "  assert len(list_a) == 5\n",
        "  dividend = sum(list_a)/list_a[4]\n",
        "  print(dividend)\n",
        "except ZeroDivisionError:\n",
        "  print(\"Denomenetor can't be zero\")\n",
        "except IndexError:\n",
        "  print(\"Please enter five numbers!\")\n",
        "except AssertionError:\n",
        "  print(\"Max 5 numbers\")\n",
        "except:\n",
        "  print(\"Please enter some real numbers\")\n",
        "finally:\n",
        "  print(\"Thank you!\")"
      ],
      "metadata": {
        "colab": {
          "base_uri": "https://localhost:8080/"
        },
        "id": "-ZAxN2FUo9X1",
        "outputId": "3ac337c8-3f75-4113-90b2-4674c149c469"
      },
      "execution_count": null,
      "outputs": [
        {
          "output_type": "stream",
          "name": "stdout",
          "text": [
            "Enter 5 numbers:1 2 3 4 5 6\n",
            "Max 5 numbers\n",
            "Thank you!\n"
          ]
        }
      ]
    },
    {
      "cell_type": "markdown",
      "source": [
        "## Custom Exception\n",
        "User Defined exception"
      ],
      "metadata": {
        "id": "72Rhj8J5YI4h"
      }
    },
    {
      "cell_type": "code",
      "source": [
        "class EdgeProgramException(Exception):\n",
        "  def __init__(self,message):\n",
        "    self.message = message\n",
        "    super().__init__(self.message)\n",
        "\n",
        "try:\n",
        "  if 1 > 0:\n",
        "    raise EdgeProgramException(\" You are Next Python Developer Exception\")\n",
        "except EdgeProgramException as e:\n",
        "  print(e)"
      ],
      "metadata": {
        "colab": {
          "base_uri": "https://localhost:8080/"
        },
        "id": "01C6N8EZYP1Q",
        "outputId": "516eb9c3-d8d5-4f7e-c759-6d64aa57c3d8"
      },
      "execution_count": null,
      "outputs": [
        {
          "output_type": "stream",
          "name": "stdout",
          "text": [
            " You are Next Python Developer Exception\n"
          ]
        }
      ]
    }
  ]
}